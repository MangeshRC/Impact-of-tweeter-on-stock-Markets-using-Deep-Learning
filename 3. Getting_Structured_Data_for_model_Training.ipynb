{
 "cells": [
  {
   "cell_type": "markdown",
   "id": "bcfc0691",
   "metadata": {},
   "source": [
    "# Getting Structured Data for model Training"
   ]
  },
  {
   "cell_type": "markdown",
   "id": "4e3befc3",
   "metadata": {},
   "source": [
    "<li> As discussed in abstract, the general structure of neural network that is going to be used will be as follows: </li>"
   ]
  },
  {
   "cell_type": "markdown",
   "id": "590e82ea",
   "metadata": {},
   "source": [
    "<img src=\"https://drive.google.com/uc?id=12dKetInXIZ7ZlvIbgIi-Csg8jBRROYGF\" width=\"400\" height=\"800\">"
   ]
  },
  {
   "cell_type": "markdown",
   "id": "a7c9e975",
   "metadata": {},
   "source": [
    "<li> We can see there are two inputs for model. First one is tokenized cleaned tweet text and other is feature matrix. </li>\n",
    "<li> All the inputs in this network are for complete day but the data that we have is for each tweet along with date. So what we need to do is combine the tweet text for complete day and get a long string representing all tweets from that day. </li>\n",
    "<li> Now to create second input that is feature matrix, we need to stack each feature vector vertically so that the dimension for each day will be like (number of tweets on that day, feature vec dimension). </li>\n",
    "<li> But the problem here is number of tweets on a particular day are not fixed. Hence a proper length of text data and feature matrix has to be selected. </li>"
   ]
  },
  {
   "cell_type": "markdown",
   "id": "965cc5c4",
   "metadata": {},
   "source": [
    "#### Let us analyze the number of tweets on each day to get an idea about the maximum and minimum tweets on a particular day."
   ]
  },
  {
   "cell_type": "code",
   "execution_count": 1,
   "id": "54595e81",
   "metadata": {},
   "outputs": [],
   "source": [
    "# importing libraries\n",
    "\n",
    "import pandas as pd\n",
    "import numpy as np\n",
    "import matplotlib.pyplot as plt\n",
    "from tqdm import tqdm\n",
    "import re\n",
    "import pickle\n",
    "import seaborn as sns\n",
    "from tensorflow.keras.preprocessing.text import Tokenizer\n",
    "from tensorflow.keras.preprocessing.sequence import pad_sequences"
   ]
  },
  {
   "cell_type": "code",
   "execution_count": 2,
   "id": "7c1f8ea0",
   "metadata": {},
   "outputs": [
    {
     "data": {
      "text/html": [
       "<div>\n",
       "<style scoped>\n",
       "    .dataframe tbody tr th:only-of-type {\n",
       "        vertical-align: middle;\n",
       "    }\n",
       "\n",
       "    .dataframe tbody tr th {\n",
       "        vertical-align: top;\n",
       "    }\n",
       "\n",
       "    .dataframe thead th {\n",
       "        text-align: right;\n",
       "    }\n",
       "</style>\n",
       "<table border=\"1\" class=\"dataframe\">\n",
       "  <thead>\n",
       "    <tr style=\"text-align: right;\">\n",
       "      <th></th>\n",
       "      <th>post_date</th>\n",
       "      <th>ticker_symbol</th>\n",
       "      <th>tweet_id</th>\n",
       "      <th>comment_num</th>\n",
       "      <th>retweet_num</th>\n",
       "      <th>like_num</th>\n",
       "      <th>URL_flag</th>\n",
       "      <th>hastags_flag</th>\n",
       "      <th>mention_flag</th>\n",
       "      <th>hashtags</th>\n",
       "      <th>tweet_cleaned</th>\n",
       "      <th>neg</th>\n",
       "      <th>neu</th>\n",
       "      <th>pos</th>\n",
       "      <th>compound</th>\n",
       "      <th>change_label</th>\n",
       "      <th>class_sign</th>\n",
       "      <th>close_value_change</th>\n",
       "    </tr>\n",
       "  </thead>\n",
       "  <tbody>\n",
       "    <tr>\n",
       "      <th>0</th>\n",
       "      <td>2015-01-01</td>\n",
       "      <td>AAPL</td>\n",
       "      <td>550802957370159104</td>\n",
       "      <td>0.003170</td>\n",
       "      <td>0.002006</td>\n",
       "      <td>0.004004</td>\n",
       "      <td>1</td>\n",
       "      <td>0</td>\n",
       "      <td>1</td>\n",
       "      <td>0</td>\n",
       "      <td>aapl store line sapporo japan lucky bag pic ht</td>\n",
       "      <td>0.0</td>\n",
       "      <td>0.741</td>\n",
       "      <td>0.259</td>\n",
       "      <td>0.4215</td>\n",
       "      <td>0.0</td>\n",
       "      <td>1</td>\n",
       "      <td>0.0</td>\n",
       "    </tr>\n",
       "    <tr>\n",
       "      <th>1</th>\n",
       "      <td>2015-01-01</td>\n",
       "      <td>AAPL</td>\n",
       "      <td>550781053137616896</td>\n",
       "      <td>0.007924</td>\n",
       "      <td>0.035105</td>\n",
       "      <td>0.022022</td>\n",
       "      <td>1</td>\n",
       "      <td>0</td>\n",
       "      <td>0</td>\n",
       "      <td>0</td>\n",
       "      <td>wall street top pick 2015 hint not aapl googl</td>\n",
       "      <td>0.0</td>\n",
       "      <td>0.816</td>\n",
       "      <td>0.184</td>\n",
       "      <td>0.2023</td>\n",
       "      <td>0.0</td>\n",
       "      <td>1</td>\n",
       "      <td>0.0</td>\n",
       "    </tr>\n",
       "    <tr>\n",
       "      <th>2</th>\n",
       "      <td>2015-01-01</td>\n",
       "      <td>AAPL</td>\n",
       "      <td>550779709840445441</td>\n",
       "      <td>0.023772</td>\n",
       "      <td>0.221665</td>\n",
       "      <td>0.109109</td>\n",
       "      <td>1</td>\n",
       "      <td>0</td>\n",
       "      <td>0</td>\n",
       "      <td>0</td>\n",
       "      <td>see tech companies like apple twitter facebook...</td>\n",
       "      <td>0.0</td>\n",
       "      <td>0.815</td>\n",
       "      <td>0.185</td>\n",
       "      <td>0.3612</td>\n",
       "      <td>0.0</td>\n",
       "      <td>1</td>\n",
       "      <td>0.0</td>\n",
       "    </tr>\n",
       "    <tr>\n",
       "      <th>3</th>\n",
       "      <td>2015-01-01</td>\n",
       "      <td>AAPL</td>\n",
       "      <td>550777620422729728</td>\n",
       "      <td>0.011094</td>\n",
       "      <td>0.011033</td>\n",
       "      <td>0.008008</td>\n",
       "      <td>1</td>\n",
       "      <td>0</td>\n",
       "      <td>0</td>\n",
       "      <td>0</td>\n",
       "      <td>new hed story apple press goes half cocked aapl</td>\n",
       "      <td>0.0</td>\n",
       "      <td>1.000</td>\n",
       "      <td>0.000</td>\n",
       "      <td>0.0000</td>\n",
       "      <td>0.0</td>\n",
       "      <td>1</td>\n",
       "      <td>0.0</td>\n",
       "    </tr>\n",
       "    <tr>\n",
       "      <th>4</th>\n",
       "      <td>2015-01-01</td>\n",
       "      <td>AAPL</td>\n",
       "      <td>550774071210696704</td>\n",
       "      <td>0.000000</td>\n",
       "      <td>0.001003</td>\n",
       "      <td>0.005005</td>\n",
       "      <td>1</td>\n",
       "      <td>1</td>\n",
       "      <td>0</td>\n",
       "      <td>APPLE</td>\n",
       "      <td>4 value stocks 2015 aapl alu expe kors pcln qc...</td>\n",
       "      <td>0.0</td>\n",
       "      <td>0.833</td>\n",
       "      <td>0.167</td>\n",
       "      <td>0.3400</td>\n",
       "      <td>0.0</td>\n",
       "      <td>1</td>\n",
       "      <td>0.0</td>\n",
       "    </tr>\n",
       "  </tbody>\n",
       "</table>\n",
       "</div>"
      ],
      "text/plain": [
       "    post_date ticker_symbol            tweet_id  comment_num  retweet_num  \\\n",
       "0  2015-01-01          AAPL  550802957370159104     0.003170     0.002006   \n",
       "1  2015-01-01          AAPL  550781053137616896     0.007924     0.035105   \n",
       "2  2015-01-01          AAPL  550779709840445441     0.023772     0.221665   \n",
       "3  2015-01-01          AAPL  550777620422729728     0.011094     0.011033   \n",
       "4  2015-01-01          AAPL  550774071210696704     0.000000     0.001003   \n",
       "\n",
       "   like_num  URL_flag  hastags_flag  mention_flag hashtags  \\\n",
       "0  0.004004         1             0             1        0   \n",
       "1  0.022022         1             0             0        0   \n",
       "2  0.109109         1             0             0        0   \n",
       "3  0.008008         1             0             0        0   \n",
       "4  0.005005         1             1             0    APPLE   \n",
       "\n",
       "                                       tweet_cleaned  neg    neu    pos  \\\n",
       "0     aapl store line sapporo japan lucky bag pic ht  0.0  0.741  0.259   \n",
       "1      wall street top pick 2015 hint not aapl googl  0.0  0.816  0.184   \n",
       "2  see tech companies like apple twitter facebook...  0.0  0.815  0.185   \n",
       "3    new hed story apple press goes half cocked aapl  0.0  1.000  0.000   \n",
       "4  4 value stocks 2015 aapl alu expe kors pcln qc...  0.0  0.833  0.167   \n",
       "\n",
       "   compound  change_label  class_sign  close_value_change  \n",
       "0    0.4215           0.0           1                 0.0  \n",
       "1    0.2023           0.0           1                 0.0  \n",
       "2    0.3612           0.0           1                 0.0  \n",
       "3    0.0000           0.0           1                 0.0  \n",
       "4    0.3400           0.0           1                 0.0  "
      ]
     },
     "execution_count": 2,
     "metadata": {},
     "output_type": "execute_result"
    }
   ],
   "source": [
    "data = pd.read_csv(\"preprocessed_data.csv\")\n",
    "\n",
    "# Cells where hashtag was absent had 'NaN' values when they were saved in csv format\n",
    "# hence filling these with 0 which will be processed later in this notebook\n",
    "data['hashtags'] = data['hashtags'].fillna(0)\n",
    "\n",
    "# Some tweets had null text after cleaning. Hence we need to remove those. The number of empty tweet text is very low\n",
    "data = data.dropna()\n",
    "data.head()"
   ]
  },
  {
   "cell_type": "code",
   "execution_count": 3,
   "id": "e9e790e1",
   "metadata": {},
   "outputs": [
    {
     "name": "stdout",
     "output_type": "stream",
     "text": [
      "Shape of data is :  (318142, 18)\n"
     ]
    }
   ],
   "source": [
    "print(\"Shape of data is : \",data.shape)"
   ]
  },
  {
   "cell_type": "code",
   "execution_count": 4,
   "id": "cf4aa8d1",
   "metadata": {},
   "outputs": [
    {
     "data": {
      "image/png": "[encoded data removed]",
      "text/plain": [
       "<Figure size 720x720 with 1 Axes>"
      ]
     },
     "metadata": {
      "needs_background": "light"
     },
     "output_type": "display_data"
    }
   ],
   "source": [
    "# Getting number of tweets w.r.t. dates \n",
    "temp = data.groupby(['post_date']).count()['tweet_id']\n",
    "counts = list(temp)\n",
    "\n",
    "plt.figure(figsize=(10,10))\n",
    "sns.histplot(counts)\n",
    "plt.title(\"Histogram of number of tweets on each day\")\n",
    "plt.xlabel(\"Number of tweets on a day\")\n",
    "plt.ylabel(\"Count\")\n",
    "plt.show()"
   ]
  },
  {
   "cell_type": "markdown",
   "id": "7b3be675",
   "metadata": {},
   "source": [
    "<li> We can see most of the days have tweets less than 600 tweets/day. </li>\n",
    "<li> Let us analyse this more with percentile values. </li>"
   ]
  },
  {
   "cell_type": "code",
   "execution_count": 5,
   "id": "ad4ea61a",
   "metadata": {},
   "outputs": [
    {
     "name": "stdout",
     "output_type": "stream",
     "text": [
      "0th percentile value for Number of tweets on a day is : 19.0\n",
      "10th percentile value for Number of tweets on a day is : 60.0\n",
      "20th percentile value for Number of tweets on a day is : 85.0\n",
      "30th percentile value for Number of tweets on a day is : 109.0\n",
      "40th percentile value for Number of tweets on a day is : 131.0\n",
      "50th percentile value for Number of tweets on a day is : 151.0\n",
      "60th percentile value for Number of tweets on a day is : 172.0\n",
      "70th percentile value for Number of tweets on a day is : 205.5\n",
      "80th percentile value for Number of tweets on a day is : 253.0\n",
      "90th percentile value for Number of tweets on a day is : 316.0\n",
      "100th percentile value for Number of tweets on a day is : 856.0\n"
     ]
    }
   ],
   "source": [
    "# let us print percentile values of these lengths from 0 100th percentile\n",
    "\n",
    "for i in range(0,110,10):\n",
    "    print(\"{}th percentile value for Number of tweets on a day is : {}\".format(i,np.percentile(counts,i)))"
   ]
  },
  {
   "cell_type": "markdown",
   "id": "3915067e",
   "metadata": {},
   "source": [
    "<li> We can see 100th percentile value is approx 800 tweets per day. Ideally this number should be considered but due to compuation limitation, we will try to train with more than 90th percentile value that is 500-600 tweets/day. </li>"
   ]
  },
  {
   "cell_type": "markdown",
   "id": "9182a7a1",
   "metadata": {},
   "source": [
    "### 1. Combining Tweet Text with respect to Date"
   ]
  },
  {
   "cell_type": "markdown",
   "id": "de2cac36",
   "metadata": {},
   "source": [
    "<li> Two class labels are being generated here. One is maginute of % changes in stock prices while other one is sign of change. </li>\n",
    "<li> Both of these class labels will be used for model training. </li>"
   ]
  },
  {
   "cell_type": "markdown",
   "id": "aa0669ff",
   "metadata": {},
   "source": [
    "<li> albert-base is a pretrained model on text data which is trained on Masked language modelling ( predicting missing words to train ). THis can be very useful in getting feature vectors from text. Hence extracting these feature vectors as well after combining the text </li>"
   ]
  },
  {
   "cell_type": "code",
   "execution_count": 6,
   "id": "2739c2e6",
   "metadata": {},
   "outputs": [
    {
     "name": "stderr",
     "output_type": "stream",
     "text": [
      "Some layers from the model checkpoint at albert-base-v2 were not used when initializing TFAlbertModel: ['predictions']\n",
      "- This IS expected if you are initializing TFAlbertModel from the checkpoint of a model trained on another task or with another architecture (e.g. initializing a BertForSequenceClassification model from a BertForPreTraining model).\n",
      "- This IS NOT expected if you are initializing TFAlbertModel from the checkpoint of a model that you expect to be exactly identical (initializing a BertForSequenceClassification model from a BertForSequenceClassification model).\n",
      "All the layers of TFAlbertModel were initialized from the model checkpoint at albert-base-v2.\n",
      "If your task is similar to the task the model of the checkpoint was trained on, you can already use TFAlbertModel for predictions without further training.\n"
     ]
    }
   ],
   "source": [
    "# referred albert-base model from below link\n",
    "# https://huggingface.co/albert-base-v2\n",
    "\n",
    "from transformers import AlbertTokenizer, TFAlbertModel\n",
    "tokenizer = AlbertTokenizer.from_pretrained('albert-base-v2')\n",
    "model = TFAlbertModel.from_pretrained(\"albert-base-v2\")"
   ]
  },
  {
   "cell_type": "code",
   "execution_count": 7,
   "id": "bea8bc7d",
   "metadata": {},
   "outputs": [
    {
     "name": "stderr",
     "output_type": "stream",
     "text": [
      "100%|██████████████████████████████████████████████████████████████████████████████| 1826/1826 [06:17<00:00,  4.83it/s]\n"
     ]
    }
   ],
   "source": [
    "# sorting w.r.t. to date in order to temporaly split data in train and test\n",
    "data = data.sort_values(by=['post_date'])\n",
    "\n",
    "# Getting two class labels\n",
    "# One is % change magnitute and other one is the direction of change\n",
    "#data['change_label'] = data.close_value_change.apply(lambda x:-x if x<0 else x)\n",
    "#data['class_sign'] = data.close_value_change.apply(lambda x:-1 if x<0 else 1)\n",
    "\n",
    "dates = data['post_date'].unique()\n",
    "companies = data['ticker_symbol'].unique()  \n",
    "\n",
    "# empty list to store % change magnitude\n",
    "change_label = {}\n",
    "\n",
    "\n",
    "# empty list to store change direction sign \n",
    "sign_change = {}\n",
    "\n",
    "# empty list to store combined tweet text\n",
    "tweets = {}\n",
    "\n",
    "tweet_vec = {}\n",
    "\n",
    "for date in tqdm(dates):\n",
    "    tweet_data = data[data.post_date == date]\n",
    "    # empty string to store and accumulate tweet text for a day\n",
    "    all_tweets = ''\n",
    "    # loop to iterate through all tweets on that day\n",
    "    for tweet in tweet_data['tweet_cleaned']: \n",
    "        all_tweets += tweet\n",
    "    \n",
    "    # storing all tweets to tweets dictionary\n",
    "    tweets[date] = all_tweets\n",
    "    \n",
    "    \n",
    "    # limiting the text word lengths to 220 since albert-base model has maximum token lengths as 512\n",
    "    # and also due to computational limitations\n",
    "    all_tweets = ' '.join(all_tweets.split()[:220])\n",
    "    \n",
    "    \n",
    "    # limiting the text word lengths to 220 since albert-base model has maximum token lengths as 512\n",
    "    # and also due to computational limitations\n",
    "    #all_tweets = ' '.join(all_tweets.split()[:220])\n",
    "    \n",
    "    # getting albert-base model output and storing it to the respective dictionary\n",
    "    # taking mean of all word vectors obtained from albert base\n",
    "    #tweet_vec[date] = np.mean(np.array(model(tokenizer(all_tweets, return_tensors='tf')\n",
    "                                            #)['last_hidden_state']),axis=1)[0]\n",
    "    \n",
    "    \n",
    "    change_label[date] = {}\n",
    "    \n",
    "    sign_change[date] = {}\n",
    "    \n",
    "    for company in companies:\n",
    "        \n",
    "        temp = data[(data.post_date == date) & (data.ticker_symbol == company)]\n",
    "\n",
    "\n",
    "        try:\n",
    "            change_label[date][company] = temp['change_label'].unique()[0]\n",
    "            sign_change[date][company] = temp['class_sign'].unique()[0]\n",
    "        except:\n",
    "            change_label[date][company] = 0\n",
    "            sign_change[date][company] = 0"
   ]
  },
  {
   "cell_type": "markdown",
   "id": "8e583b4c",
   "metadata": {},
   "source": [
    "<li> Now that we have combined tweet text, let us observe the text lengths so that we get an idea regarding minimum fixed sequence lengths required without losing much data. </li>\n",
    "<li> We can pad the sequence if length is shorter and trim the seqeunce if those are lengthier. </li>\n",
    "<li> This is done in order to enable batch training by having equal input length. </li>"
   ]
  },
  {
   "cell_type": "code",
   "execution_count": 8,
   "id": "ce507816",
   "metadata": {},
   "outputs": [
    {
     "data": {
      "image/png": "[encoded data removed]",
      "text/plain": [
       "<Figure size 720x720 with 1 Axes>"
      ]
     },
     "metadata": {
      "needs_background": "light"
     },
     "output_type": "display_data"
    }
   ],
   "source": [
    "# getting lengths of all combined tweet text data\n",
    "len_tweets = [len(i.split()) for i in tweets.values()]\n",
    "\n",
    "plt.figure(figsize=(10,10))\n",
    "sns.histplot(len_tweets)\n",
    "plt.title(\"Combined tweet text length histogram\")\n",
    "plt.xlabel(\"Tweet text length\")\n",
    "plt.ylabel(\"Number of days with that text length\")\n",
    "plt.show()"
   ]
  },
  {
   "cell_type": "markdown",
   "id": "d27be761",
   "metadata": {},
   "source": [
    "<li> We can observe that number of words in tweet text vary from 0 to approx 20000 </li>\n",
    "<li> This length of tweet texts will not feasible for model training. Hence a fix length of sequence should be selected. Let us observe percentile values for these tweet text data. </li>"
   ]
  },
  {
   "cell_type": "code",
   "execution_count": 9,
   "id": "8960d232",
   "metadata": {},
   "outputs": [
    {
     "name": "stdout",
     "output_type": "stream",
     "text": [
      "0th percentile value for tweet length is : 185.0\n",
      "10th percentile value for tweet length is : 627.0\n",
      "20th percentile value for tweet length is : 948.0\n",
      "30th percentile value for tweet length is : 1230.5\n",
      "40th percentile value for tweet length is : 1521.0\n",
      "50th percentile value for tweet length is : 1830.5\n",
      "60th percentile value for tweet length is : 2324.0\n",
      "70th percentile value for tweet length is : 3029.0\n",
      "80th percentile value for tweet length is : 4041.0\n",
      "90th percentile value for tweet length is : 5351.5\n",
      "100th percentile value for tweet length is : 13632.0\n"
     ]
    }
   ],
   "source": [
    "# let us print percentile values of these lengths from 0 100th percentile\n",
    "\n",
    "for i in range(0,110,10):\n",
    "    print(\"{}th percentile value for tweet length is : {}\".format(i,np.percentile(len_tweets,i)))"
   ]
  },
  {
   "cell_type": "markdown",
   "id": "e5c4388c",
   "metadata": {},
   "source": [
    "<li> We can see that 90th percentile value is approx 7700. For now we can select a value 0f 5000 words and later increase if we don't get satisfactory results. </li>\n",
    "<li> Let us now create padded text with complete text for now. This is just for demonstration and while training the model, data will be split in train and validation set. Based on training set, sequences will be created. </li>"
   ]
  },
  {
   "cell_type": "code",
   "execution_count": 10,
   "id": "fef66690",
   "metadata": {},
   "outputs": [
    {
     "name": "stdout",
     "output_type": "stream",
     "text": [
      "First two elements of this encoded text can be observed as follows. Both have a fixed length of 5000 words\n",
      "\n",
      "[  1 451 336 ...   0   0   0] Length of sequence:  5000\n",
      "[2388  806  170 ...    0    0    0] Length of sequence:  5000\n",
      "\n",
      "Shape of padded combined text is :  (1826, 5000)\n"
     ]
    }
   ],
   "source": [
    "# creating tokenizer object\n",
    "tokenizer = Tokenizer()\n",
    "\n",
    "tokenizer.fit_on_texts(tweets.values())\n",
    "\n",
    "# getting encoded text from tweets data\n",
    "encoded_text = tokenizer.texts_to_sequences(tweets.values())\n",
    "\n",
    "# max length was selected as 5000 for padding\n",
    "max_length = 5000\n",
    "text_mat = pad_sequences(encoded_text, maxlen=max_length, padding='post')\n",
    "\n",
    "print(\"First two elements of this encoded text can be observed as follows. Both have a fixed length of 5000 words\\n\")\n",
    "print(text_mat[0],\"Length of sequence: \",len(text_mat[0]))\n",
    "print(text_mat[1],\"Length of sequence: \",len(text_mat[1]))\n",
    "print(\"\\nShape of padded combined text is : \",text_mat.shape)"
   ]
  },
  {
   "cell_type": "markdown",
   "id": "53817b51",
   "metadata": {},
   "source": [
    "<li> We can see that the shape of tokenised text is (1826,5000) and when this tokenised text is passed through embedding layer then the shape of this will be (1826,5000,embedding_dim). </li>\n",
    "<li> Hence there are 1826 days and for each day we have considered maximum 5000 words for which embedding will be done and passed to the further part of neural network. </li>"
   ]
  },
  {
   "cell_type": "markdown",
   "id": "d82812a3",
   "metadata": {},
   "source": [
    "### 2. Creating Feature Matrix"
   ]
  },
  {
   "cell_type": "markdown",
   "id": "cd7a42f8",
   "metadata": {},
   "source": [
    "<li> To create feature matrix, we have already extracted few features from each tweet in \"EDA_and_Preprocessing_of_combined_Data.ipynb\" but hashtags are yet to be converted to feature vectors. So, one of the research papers suggested that we can create feature vectors from hashtags by taking average of all letter vectors in those hashtags. Hence here, pretrained Glove Vectors of dimension 300 were used for each letter and hashtags were represented with a dimension of 300. </li>"
   ]
  },
  {
   "cell_type": "code",
   "execution_count": 12,
   "id": "c6f73a93",
   "metadata": {},
   "outputs": [
    {
     "name": "stderr",
     "output_type": "stream",
     "text": [
      "100%|██████████████████████████████████████████████████████████████████████████████| 1826/1826 [00:37<00:00, 49.24it/s]\n"
     ]
    }
   ],
   "source": [
    "data = data.sort_values(by=['post_date'])\n",
    "\n",
    "\n",
    "dates = data['post_date'].unique()\n",
    "companies = data['ticker_symbol'].unique()  \n",
    "\n",
    "# referred this preprocess function from Donor Choose assignments\n",
    "def preprocess(text):\n",
    "    text = text.lower()\n",
    "    text = re.sub(r\"won't\", \"will not\", text)\n",
    "    text = re.sub(r\"can\\'t\", \"can not\", text)\n",
    "    text = re.sub(r\"n\\'t\", \" not\", text)\n",
    "    text = re.sub(r\"\\'re\", \" are\", text)\n",
    "    text = re.sub(r\"\\'s\", \" is\", text)\n",
    "    text = re.sub(r\"\\'d\", \" would\", text)\n",
    "    text = re.sub(r\"\\'ll\", \" will\", text)\n",
    "    text = re.sub(r\"\\'t\", \" not\", text)\n",
    "    text = re.sub(r\"\\'ve\", \" have\", text)\n",
    "    text = re.sub(r\"\\'m\", \" am\", text)\n",
    "    text = text.replace('\\\\r', ' ')\n",
    "    text = text.replace('\\\\n', ' ')\n",
    "    text = text.replace('\\\\\"', ' ')\n",
    "    text = re.sub('[^A-Za-z0-9]+', ' ', text)\n",
    "    return text\n",
    "\n",
    "# Getting Glove vec dictionary\n",
    "with open('glove_vectors', 'rb') as f:\n",
    "    glove_dict = pickle.load(f)\n",
    "\n",
    "# Function to get hashtag vectors\n",
    "def vec_hashtag(hashtags):\n",
    "    vec = np.zeros(300)   # empty vector of dimension 300\n",
    "    n_letters = 1         # counting letters in all hashtags\n",
    "    if hashtags:\n",
    "        hashtags = hashtags.split(',')         # getting all hashtags for current tweet\n",
    "        for hashtag in hashtags:               # loop to iterate through all hashtags\n",
    "            hashtag = preprocess(hashtag)      # preprocessing all hashtags\n",
    "            hashtag = hashtag.replace(\" \", \"\") # removing spaces in hashtags\n",
    "            for letter in hashtag:           \n",
    "                vec += glove_dict[letter]\n",
    "                n_letters += 1\n",
    "        vec /= n_letters                       # finding average of all letter vectors\n",
    "    return np.array(vec)\n",
    "\n",
    "# referred array padding from below two links\n",
    "# https://numpy.org/doc/stable/reference/generated/numpy.pad.html\n",
    "# https://stackoverflow.com/questions/35751306/python-how-to-pad-numpy-array-with-zeros\n",
    "\n",
    "feature_mat = {}         # emtpy list to store all feature matrices\n",
    "req_dim = 500            # selected tweets for a day\n",
    "for date in tqdm(dates): # loop to iterate through all dates\n",
    "    vec_data = data[data.post_date == date]    # filtering data for current date\n",
    "    \n",
    "    # getting feature vector for current date with all other features\n",
    "    temp = vec_data.drop(['tweet_id','ticker_symbol','hashtags','post_date','tweet_cleaned',\n",
    "                          'close_value_change','change_label','class_sign'],axis=1).values\n",
    "    \n",
    "    # empty list to store hashtag vector\n",
    "    hash_vec = []\n",
    "    \n",
    "    # loop to iterate thorugh all tweet hashtags and getting their vector representation\n",
    "    for tweet in vec_data['hashtags'].values:\n",
    "        hash_vec.append(vec_hashtag(tweet))\n",
    "    hash_vec = np.array(hash_vec)\n",
    "    \n",
    "    # combining hashtag vectors and other feature vectors for current date\n",
    "    hash_vec = np.hstack((temp,hash_vec))\n",
    "    \n",
    "    try:       # padding matrix with 0's if number of tweet vectors are less than req_dim\n",
    "        hash_vec = np.pad(hash_vec, [(0, req_dim-hash_vec.shape[0]), (0, 0)])\n",
    "    except:    # else select first 500 tweet vectors\n",
    "        hash_vec = hash_vec[:req_dim,:]\n",
    "        \n",
    "    # adding feature matrix to defined list\n",
    "    # added one more dimension so that while training neural network, these arrrays will be treated as single channel images\n",
    "    feature_mat[date] = np.expand_dims(hash_vec,axis=-1)"
   ]
  },
  {
   "cell_type": "markdown",
   "id": "35b20be7",
   "metadata": {},
   "source": [
    "<li> Here we can see that the the dimension of feature matrix is (1826,500,310) which means there are 1826 days and for each day 500 tweets were considered, each with 310 features. </li>"
   ]
  },
  {
   "cell_type": "markdown",
   "id": "75f019b3",
   "metadata": {},
   "source": [
    "### 3. Combining Both Inputs and Storing processed data"
   ]
  },
  {
   "cell_type": "code",
   "execution_count": 13,
   "id": "378f2281",
   "metadata": {},
   "outputs": [
    {
     "name": "stderr",
     "output_type": "stream",
     "text": [
      "100%|█████████████████████████████████████████████████████████████████████████████| 1826/1826 [00:04<00:00, 413.65it/s]\n",
      "100%|█████████████████████████████████████████████████████████████████████████████| 1826/1826 [00:04<00:00, 385.86it/s]\n",
      "100%|█████████████████████████████████████████████████████████████████████████████| 1826/1826 [00:05<00:00, 358.41it/s]\n",
      "100%|█████████████████████████████████████████████████████████████████████████████| 1826/1826 [00:05<00:00, 338.97it/s]\n",
      "100%|█████████████████████████████████████████████████████████████████████████████| 1826/1826 [00:05<00:00, 317.37it/s]\n",
      "100%|█████████████████████████████████████████████████████████████████████████████| 1826/1826 [00:06<00:00, 300.08it/s]\n"
     ]
    }
   ],
   "source": [
    "structured_data = pd.DataFrame(columns=['post_date','tweet_text','company_name','feat_mat','change_label','sign_change'])\n",
    "\n",
    "for company in companies:\n",
    "    for date in tqdm(dates):\n",
    "        structured_data = structured_data.append({'post_date':date,\n",
    "                                'tweet_text':tweets[date],\n",
    "                                'company_name':company,\n",
    "                                'feat_mat':feature_mat[date],\n",
    "                                'change_label':change_label[date][company],\n",
    "                                'sign_change':sign_change[date][company]},ignore_index=True)"
   ]
  },
  {
   "cell_type": "code",
   "execution_count": 14,
   "id": "b2d2c917",
   "metadata": {},
   "outputs": [
    {
     "name": "stdout",
     "output_type": "stream",
     "text": [
      "Shape of created dataframe is :  (10956, 6)\n",
      "Shape of created featrure matrix in feat_mat column is :  (500, 310, 1)\n"
     ]
    }
   ],
   "source": [
    "print(\"Shape of created dataframe is : \",structured_data.shape)\n",
    "print(\"Shape of created featrure matrix in feat_mat column is : \",structured_data['feat_mat'].values[0].shape)"
   ]
  },
  {
   "cell_type": "code",
   "execution_count": 15,
   "id": "e85a1ef9",
   "metadata": {},
   "outputs": [
    {
     "data": {
      "text/plain": [
       "array([1, 0], dtype=object)"
      ]
     },
     "execution_count": 15,
     "metadata": {},
     "output_type": "execute_result"
    }
   ],
   "source": [
    "structured_data['sign_change'].unique()"
   ]
  },
  {
   "cell_type": "code",
   "execution_count": 16,
   "id": "69656c64",
   "metadata": {},
   "outputs": [],
   "source": [
    "# Saving the data for further use\n",
    "\n",
    "import pickle\n",
    "\n",
    "pickle.dump(structured_data,open(\"structured_data.pkl\",\"wb\"))"
   ]
  }
 ],
 "metadata": {
  "kernelspec": {
   "display_name": "Python 3",
   "language": "python",
   "name": "python3"
  },
  "language_info": {
   "codemirror_mode": {
    "name": "ipython",
    "version": 3
   },
   "file_extension": ".py",
   "mimetype": "text/x-python",
   "name": "python",
   "nbconvert_exporter": "python",
   "pygments_lexer": "ipython3",
   "version": "3.8.8"
  }
 },
 "nbformat": 4,
 "nbformat_minor": 5
}
