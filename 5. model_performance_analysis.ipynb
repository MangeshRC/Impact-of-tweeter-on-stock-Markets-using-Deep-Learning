{
 "cells": [
  {
   "cell_type": "markdown",
   "id": "7becb98f",
   "metadata": {},
   "source": [
    "# Model Performance Analysis"
   ]
  },
  {
   "cell_type": "code",
   "execution_count": 34,
   "id": "b9dc22b3",
   "metadata": {},
   "outputs": [],
   "source": [
    "# importing libraries\n",
    "\n",
    "import pandas as pd\n",
    "import numpy as np\n",
    "import tensorflow as tf\n",
    "import os \n",
    "# for some models GPU capacity was not enough hence trained those models by disabling GPU with below line\n",
    "os.environ[\"CUDA_VISIBLE_DEVICES\"]=\"-1\"\n",
    "from tensorflow.keras.preprocessing.text import Tokenizer\n",
    "from tensorflow.keras.preprocessing.sequence import pad_sequences\n",
    "import pickle\n",
    "from tensorflow.keras.layers import Dense,Flatten,Embedding,Concatenate\n",
    "from tensorflow.keras.layers import Conv1D,MaxPooling1D,Dropout,Conv2D,MaxPooling2D\n",
    "from tensorflow.keras.layers import Input,Activation,LSTM,BatchNormalization\n",
    "from tensorflow.keras.models import Model\n",
    "from sklearn.preprocessing import Normalizer\n",
    "from sklearn.metrics import roc_curve,roc_auc_score,f1_score\n",
    "import matplotlib.pyplot as plt\n",
    "from sklearn.preprocessing import StandardScaler\n",
    "from sklearn.preprocessing import OneHotEncoder\n",
    "from tqdm import tqdm\n",
    "from sklearn.preprocessing import minmax_scale,MinMaxScaler\n",
    "import tensorflow_text as text\n",
    "import pathlib\n",
    "import seaborn as sns\n",
    "import tensorflow_addons as tfa"
   ]
  },
  {
   "cell_type": "markdown",
   "id": "5306b56a",
   "metadata": {},
   "source": [
    "## Reading the stored data"
   ]
  },
  {
   "cell_type": "code",
   "execution_count": 3,
   "id": "b6b41426",
   "metadata": {},
   "outputs": [
    {
     "name": "stdout",
     "output_type": "stream",
     "text": [
      "Shape of created dataframe is :  (10956, 6)\n",
      "Shape of created featrure matrix in feat_mat column is :  (500, 310, 1)\n"
     ]
    }
   ],
   "source": [
    "# reading preprocessed data\n",
    "\n",
    "structured_data = pickle.load(open(\"structured_data.pkl\",\"rb\"))\n",
    "print(\"Shape of created dataframe is : \",structured_data.shape)\n",
    "print(\"Shape of created featrure matrix in feat_mat column is : \",structured_data['feat_mat'].values[1].shape)"
   ]
  },
  {
   "cell_type": "code",
   "execution_count": 4,
   "id": "d604bee7",
   "metadata": {},
   "outputs": [
    {
     "data": {
      "text/html": [
       "<div>\n",
       "<style scoped>\n",
       "    .dataframe tbody tr th:only-of-type {\n",
       "        vertical-align: middle;\n",
       "    }\n",
       "\n",
       "    .dataframe tbody tr th {\n",
       "        vertical-align: top;\n",
       "    }\n",
       "\n",
       "    .dataframe thead th {\n",
       "        text-align: right;\n",
       "    }\n",
       "</style>\n",
       "<table border=\"1\" class=\"dataframe\">\n",
       "  <thead>\n",
       "    <tr style=\"text-align: right;\">\n",
       "      <th></th>\n",
       "      <th>post_date</th>\n",
       "      <th>tweet_text</th>\n",
       "      <th>company_name</th>\n",
       "      <th>feat_mat</th>\n",
       "      <th>change_label</th>\n",
       "      <th>sign_change</th>\n",
       "      <th>tweet_text_len</th>\n",
       "    </tr>\n",
       "  </thead>\n",
       "  <tbody>\n",
       "    <tr>\n",
       "      <th>0</th>\n",
       "      <td>2015-01-01</td>\n",
       "      <td>aapl store line sapporo japan lucky bag pic ht...</td>\n",
       "      <td>AAPL</td>\n",
       "      <td>[[[0.0031695721077654], [0.0020060180541624], ...</td>\n",
       "      <td>0.0</td>\n",
       "      <td>1</td>\n",
       "      <td>501</td>\n",
       "    </tr>\n",
       "    <tr>\n",
       "      <th>1826</th>\n",
       "      <td>2015-01-01</td>\n",
       "      <td>aapl store line sapporo japan lucky bag pic ht...</td>\n",
       "      <td>AMZN</td>\n",
       "      <td>[[[0.0031695721077654], [0.0020060180541624], ...</td>\n",
       "      <td>0.0</td>\n",
       "      <td>1</td>\n",
       "      <td>501</td>\n",
       "    </tr>\n",
       "    <tr>\n",
       "      <th>9130</th>\n",
       "      <td>2015-01-01</td>\n",
       "      <td>aapl store line sapporo japan lucky bag pic ht...</td>\n",
       "      <td>GOOG</td>\n",
       "      <td>[[[0.0031695721077654], [0.0020060180541624], ...</td>\n",
       "      <td>0.0</td>\n",
       "      <td>1</td>\n",
       "      <td>501</td>\n",
       "    </tr>\n",
       "    <tr>\n",
       "      <th>3652</th>\n",
       "      <td>2015-01-01</td>\n",
       "      <td>aapl store line sapporo japan lucky bag pic ht...</td>\n",
       "      <td>GOOGL</td>\n",
       "      <td>[[[0.0031695721077654], [0.0020060180541624], ...</td>\n",
       "      <td>0.0</td>\n",
       "      <td>1</td>\n",
       "      <td>501</td>\n",
       "    </tr>\n",
       "    <tr>\n",
       "      <th>7304</th>\n",
       "      <td>2015-01-01</td>\n",
       "      <td>aapl store line sapporo japan lucky bag pic ht...</td>\n",
       "      <td>MSFT</td>\n",
       "      <td>[[[0.0031695721077654], [0.0020060180541624], ...</td>\n",
       "      <td>0.0</td>\n",
       "      <td>1</td>\n",
       "      <td>501</td>\n",
       "    </tr>\n",
       "  </tbody>\n",
       "</table>\n",
       "</div>"
      ],
      "text/plain": [
       "       post_date                                         tweet_text  \\\n",
       "0     2015-01-01  aapl store line sapporo japan lucky bag pic ht...   \n",
       "1826  2015-01-01  aapl store line sapporo japan lucky bag pic ht...   \n",
       "9130  2015-01-01  aapl store line sapporo japan lucky bag pic ht...   \n",
       "3652  2015-01-01  aapl store line sapporo japan lucky bag pic ht...   \n",
       "7304  2015-01-01  aapl store line sapporo japan lucky bag pic ht...   \n",
       "\n",
       "     company_name                                           feat_mat  \\\n",
       "0            AAPL  [[[0.0031695721077654], [0.0020060180541624], ...   \n",
       "1826         AMZN  [[[0.0031695721077654], [0.0020060180541624], ...   \n",
       "9130         GOOG  [[[0.0031695721077654], [0.0020060180541624], ...   \n",
       "3652        GOOGL  [[[0.0031695721077654], [0.0020060180541624], ...   \n",
       "7304         MSFT  [[[0.0031695721077654], [0.0020060180541624], ...   \n",
       "\n",
       "      change_label sign_change  tweet_text_len  \n",
       "0              0.0           1             501  \n",
       "1826           0.0           1             501  \n",
       "9130           0.0           1             501  \n",
       "3652           0.0           1             501  \n",
       "7304           0.0           1             501  "
      ]
     },
     "execution_count": 4,
     "metadata": {},
     "output_type": "execute_result"
    }
   ],
   "source": [
    "# for missing data for any company, on a particular day, was assigned 0 as sign change label\n",
    "# hence removing those to have cleaned data\n",
    "#structured_data = structured_data[structured_data.sign_change != 0]\n",
    "\n",
    "\n",
    "# changing -1 & 1 to 0 & 1 to have binary crossentropy as loss and sigmoid as final layer activation.\n",
    "#structured_data['sign_change'] = structured_data.sign_change.apply(lambda x:0 if x==-1 else 1)\n",
    "\n",
    "structured_data = structured_data.sort_values(by=['post_date','company_name'])\n",
    "\n",
    "structured_data['tweet_text_len'] = structured_data.tweet_text.apply(lambda x:len(x.split()))\n",
    "\n",
    "structured_data.head()"
   ]
  },
  {
   "cell_type": "markdown",
   "id": "ac5331a8",
   "metadata": {},
   "source": [
    "### Since the data split is being done on temporal basis, there is no randomness in train test split. Hence we will get exactly same train and validation sets that we trained our models on."
   ]
  },
  {
   "cell_type": "code",
   "execution_count": 5,
   "id": "571cccb4",
   "metadata": {},
   "outputs": [
    {
     "name": "stdout",
     "output_type": "stream",
     "text": [
      "Number of data points in train data are : 9672\n",
      "Number of data points in train data are : 1284\n"
     ]
    }
   ],
   "source": [
    "# the data that we have is from '2015-01-01' to '2019-12-31'\n",
    "# Hence taking last 6 months as test data and 4 years, 6 months of training data from the dataset\n",
    "train_data = structured_data[structured_data.post_date < '2019-06-01']\n",
    "test_data = structured_data[structured_data.post_date >= '2019-06-01']\n",
    "\n",
    "\n",
    "# getting train data for all models\n",
    "# two class labels are there, one is magnitude of % change\n",
    "# while second one is sign of change (values 0 or 1 : 0 - negative change, 1 - positive change)\n",
    "y_train_change = train_data['change_label'].values\n",
    "y_train_sign = train_data['sign_change'].values\n",
    "y_train_sign = y_train_sign.astype('int')\n",
    "x_train_text = train_data['tweet_text'].values\n",
    "'''x_train_tweet_vec = train_data['tweet_vec'].values\n",
    "x_train_tweet_vec = list(x_train_tweet_vec)\n",
    "x_train_tweet_vec = np.array(x_train_tweet_vec)'''\n",
    "x_train_feat = list(train_data['feat_mat'].values)\n",
    "x_train_feat = np.array(x_train_feat)\n",
    "x_train_company = train_data['company_name'].values\n",
    "\n",
    "# getting test data for all models\n",
    "y_test_change = test_data['change_label'].values\n",
    "y_test_sign = test_data['sign_change'].values\n",
    "y_test_sign = y_test_sign.astype('int')\n",
    "x_test_text = test_data['tweet_text'].values\n",
    "'''x_test_tweet_vec = test_data['tweet_vec'].values\n",
    "x_test_tweet_vec = list(x_test_tweet_vec)\n",
    "x_test_tweet_vec = np.array(x_test_tweet_vec)'''\n",
    "x_test_feat = list(test_data['feat_mat'].values)\n",
    "x_test_feat = np.array(x_test_feat)\n",
    "x_test_company = test_data['company_name'].values\n",
    "\n",
    "print(\"Number of data points in train data are :\",train_data.shape[0])\n",
    "print(\"Number of data points in train data are :\",test_data.shape[0])"
   ]
  },
  {
   "cell_type": "markdown",
   "id": "00360d08",
   "metadata": {},
   "source": [
    "### Tokenizing tweet text with  BertTokenizer and Company name Column with simple Tokenizer"
   ]
  },
  {
   "cell_type": "code",
   "execution_count": 5,
   "id": "9d622b29",
   "metadata": {},
   "outputs": [],
   "source": [
    "# referred below link to implement subword tokenizer\n",
    "# https://www.tensorflow.org/text/guide/subwords_tokenizer\n",
    "\n",
    "bert_tokenizer_params=dict(lower_case=True)\n",
    "reserved_tokens=[]\n",
    "\n",
    "bert_vocab_args = dict(\n",
    "    # The target vocabulary size\n",
    "    vocab_size = 8000,\n",
    "    # Reserved tokens that must be included in the vocabulary\n",
    "    reserved_tokens=reserved_tokens,\n",
    "    # Arguments for `text.BertTokenizer`\n",
    "    bert_tokenizer_params=bert_tokenizer_params,\n",
    "    # Arguments for `wordpiece_vocab.wordpiece_tokenizer_learner_lib.learn`\n",
    "    learn_params={},\n",
    ")\n",
    "\n",
    "# creating BertTokenizer object with vocab text file genrated as per reference link stated above\n",
    "en_tokenizer = text.BertTokenizer('en_vocab.txt', **bert_tokenizer_params)\n",
    "vocab_size_text = len(pathlib.Path('en_vocab.txt').read_text().splitlines())+ 1\n",
    "\n",
    "\n",
    "# Using BertTokenizer to tokenize train data\n",
    "encoded_text = en_tokenizer.tokenize(x_train_text)\n",
    "encoded_text = encoded_text.merge_dims(-2,-1)   # reducing dimension of ragged tensor\n",
    "encoded_text = encoded_text.to_list()           # converting to list to pad the sequences\n",
    "max_length = 5000                               # max length of padding\n",
    "train_text = pad_sequences(encoded_text, maxlen=max_length, padding='post')\n",
    "\n",
    "\n",
    "# Using BertTokenizer to tokenize test data \n",
    "encoded_text = en_tokenizer.tokenize(x_test_text)\n",
    "encoded_text = encoded_text.merge_dims(-2,-1)\n",
    "encoded_text = encoded_text.to_list()\n",
    "test_text = pad_sequences(encoded_text, maxlen=max_length, padding='post')\n",
    "\n",
    "pickle.dump([vocab_size_text,train_text,test_text],open(\"bert_tokens.pkl\",\"wb\"))"
   ]
  },
  {
   "cell_type": "code",
   "execution_count": 6,
   "id": "1cd7e97a",
   "metadata": {},
   "outputs": [],
   "source": [
    "[vocab_size_text,train_text,test_text] = pickle.load(open(\"bert_tokens.pkl\",\"rb\"))"
   ]
  },
  {
   "cell_type": "code",
   "execution_count": 7,
   "id": "4e9b2a80",
   "metadata": {},
   "outputs": [],
   "source": [
    "# We don't need to use subwordtokenizer here since these company names are standard\n",
    "# and these will not be changed while giving as inputs\n",
    "\n",
    "\n",
    "# creating tokens for company names\n",
    "tokenizer = Tokenizer()                   # creating tokenizer object\n",
    "tokenizer.fit_on_texts(x_train_company) \n",
    "vocab_size_company = len(tokenizer.word_index) + 1\n",
    "\n",
    "# getting tokenized train data\n",
    "train_comp = np.array(tokenizer.texts_to_sequences(x_train_company))\n",
    "\n",
    "# getting tokenized test data\n",
    "test_comp = np.array(tokenizer.texts_to_sequences(x_test_company))"
   ]
  },
  {
   "cell_type": "markdown",
   "id": "722753e0",
   "metadata": {},
   "source": [
    "## Trained Model Summary"
   ]
  },
  {
   "cell_type": "markdown",
   "id": "36ceceb1",
   "metadata": {},
   "source": [
    "<table>\n",
    "    <tr>\n",
    "        <td><b> Sr. No. </b> </td>\n",
    "        <td><b>Model</b></td>\n",
    "        <td><b>Inputs</b></td>\n",
    "        <td><b>Outputs</b></td>\n",
    "        <td><b>Min val_change_prediction loss</b></td>\n",
    "        <td><b>Min val_sign_prediction loss</b></td>\n",
    "        <td><b>Mean deviation from actual values</b></td>\n",
    "        <td><b>Correct signs predicted out of 1282</b></td>\n",
    "    </tr>\n",
    "    <tr>\n",
    "        <td>1. </td>\n",
    "        <td>Base model trained with just Feature Matrix</td>\n",
    "        <td>input_feat,input_company</td>\n",
    "        <td>output_change, output_sign</td>\n",
    "        <td>1.5024</td>\n",
    "        <td>0.6096</td>\n",
    "        <td>0.75145924</td>\n",
    "        <td>866</td>\n",
    "    </tr>\n",
    "    <tr>\n",
    "        <td>2. </td>\n",
    "        <td>Model trained with just Combined Tweet Text Data</td>\n",
    "        <td> input_text,input_company </td>\n",
    "        <td>output_change, output_sign</td>\n",
    "        <td> 1.4636</td>\n",
    "        <td>0.6525</td>\n",
    "        <td>0.7918114</td>\n",
    "        <td>782</td>\n",
    "    </tr>\n",
    "    <tr>\n",
    "        <td>3. </td>\n",
    "        <td>Model trained with Both Tweet text and Feature Matrix</td>\n",
    "        <td> input_text,input_feat,input_company </td>\n",
    "        <td>output_change, output_sign</td>\n",
    "        <td>1.5635 </td>\n",
    "        <td>0.6344</td>\n",
    "        <td>0.86987495</td>\n",
    "        <td>872</td>\n",
    "    </tr>\n",
    "    <tr>\n",
    "        <td>4. </td>\n",
    "        <td>Multichannel Convolution Neural Network Model with both tweet text and feature matrix</td>\n",
    "        <td> input_text,input_feat,input_company </td>\n",
    "        <td>output_change, output_sign</td>\n",
    "        <td> 1.5560 </td>\n",
    "        <td>0.6288</td>\n",
    "        <td>0.85519534</td>\n",
    "        <td>900</td>\n",
    "    </tr>\n",
    "    <tr>\n",
    "        <td>5. </td>\n",
    "        <td>Multichannel Convolution Neural Network Model with just tweet text</td>\n",
    "        <td> input_text,input_feat,input_company </td>\n",
    "        <td>output_change, output_sign</td>\n",
    "        <td> 1.4964  </td>\n",
    "        <td> 0.6621 </td>\n",
    "        <td> 0.80678344 </td>\n",
    "        <td> 765 </td>\n",
    "    </tr>\n",
    "</table>"
   ]
  },
  {
   "cell_type": "markdown",
   "id": "406ce637",
   "metadata": {},
   "source": [
    "<li> With reference to the table stated above, we can observe that models with just tweet text as inputs are performing better when compared to just feature matrix input when we consider \"val_change_prediction\" loss. While models with just feature matrix as inputs are performing better with respect to sign prediction. Hence we can observe if we combine both text input and feature matrix in model 3 & 4 then we are able to get low \"val_change_prediction\" loss. </li>\n",
    "<li> The mean deviation is the mean of deviation from actual % change values. This was having least value for model 3 with both text as input and feature matrix as input. </li>\n",
    "<li> But if we consider both mean deviation and sign predictions, then Multichannel CNNs i.e. model 4 is performing better. Hence this can be considered as the best performing model. </li>\n",
    "<li> Let us analyze where this model is performing better and where it's not. We will use saved model weights for prediction. </li>"
   ]
  },
  {
   "cell_type": "code",
   "execution_count": 8,
   "id": "aec8d266",
   "metadata": {},
   "outputs": [
    {
     "data": {
      "image/png": "[encoded data removed]",
      "text/plain": [
       "<IPython.core.display.Image object>"
      ]
     },
     "execution_count": 8,
     "metadata": {},
     "output_type": "execute_result"
    }
   ],
   "source": [
    "# defining model\n",
    "\n",
    "np.random.seed(0)\n",
    "tf.random.set_seed(0)\n",
    "\n",
    "# clearing previous session if it exists.\n",
    "tf.keras.backend.clear_session()\n",
    "\n",
    "# essay feature\n",
    "input_text = Input(shape=(5000,),name=\"Tweet text input\")\n",
    "\n",
    "embedding_text = Embedding(7011, 100)(input_text)\n",
    "\n",
    "\n",
    "conv11 = Conv1D(64,kernel_size = 20,padding='same')(embedding_text)\n",
    "\n",
    "maxpool11 = MaxPooling1D(10)(conv11)\n",
    "\n",
    "\n",
    "conv12 = Conv1D(64,kernel_size = 10,padding='same')(embedding_text)\n",
    "\n",
    "maxpool12 = MaxPooling1D(10)(conv12)\n",
    "\n",
    "\n",
    "concat1 = Concatenate()([maxpool11,maxpool12])\n",
    "\n",
    "flatten1 = Flatten()(concat1)\n",
    "\n",
    "\n",
    "\n",
    "input_feat = Input(shape=(500,310,1),name=\"feature_matrix input\")\n",
    "\n",
    "conv21 = Conv2D(64,(3,3),padding='same')(input_feat)\n",
    "\n",
    "pool21 = MaxPooling2D()(conv21)\n",
    "\n",
    "flatten2 = Flatten()(pool21)\n",
    "\n",
    "\n",
    "\n",
    "input_company = Input(shape=(1,),name=\"Company_name\")\n",
    "\n",
    "embedding_company = Embedding(vocab_size_company, 6)(input_company)\n",
    "\n",
    "flatten3 = Flatten()(embedding_company)\n",
    "\n",
    "\n",
    "\n",
    "concat = Concatenate()([flatten1,flatten2,flatten3])\n",
    "\n",
    "dense_layer1 = Dense(50,activation='relu',kernel_initializer=tf.keras.initializers.he_uniform())(concat)\n",
    "\n",
    "dense_layer2 = Dense(50,activation='relu',kernel_initializer=tf.keras.initializers.he_uniform())(dense_layer1)\n",
    "\n",
    "dense_layer3 = Dense(50,activation='relu',kernel_initializer=tf.keras.initializers.he_uniform())(dense_layer2)\n",
    "\n",
    "dense_layer4 = Dense(50,activation='relu',kernel_initializer=tf.keras.initializers.he_uniform())(dense_layer3)\n",
    "\n",
    "dense_layer41 = Dense(50,activation='relu',kernel_initializer=tf.keras.initializers.he_uniform())(dense_layer4)\n",
    "\n",
    "dense_layer41 = Dense(50,activation='relu',kernel_initializer=tf.keras.initializers.he_uniform())(dense_layer41)\n",
    "\n",
    "output_sign = Dense(1,activation = 'sigmoid',name=\"sign_prediction\")(dense_layer41)\n",
    "\n",
    "dense_layer42 = Dense(50,activation='relu',kernel_initializer=tf.keras.initializers.he_uniform())(dense_layer4)\n",
    "\n",
    "dense_layer42 = Dense(50,activation='relu',kernel_initializer=tf.keras.initializers.he_uniform())(dense_layer42)\n",
    "\n",
    "output_change = Dense(1,activation='relu',name=\"Change_prediction\")(dense_layer42)\n",
    "\n",
    "\n",
    "model = Model(inputs=[input_text,input_feat,input_company]\n",
    "              ,outputs=[output_change,output_sign])\n",
    "\n",
    "\n",
    "# Referred and implemented Piece wise Decay using below link\n",
    "# https://www.tensorflow.org/api_docs/python/tf/keras/optimizers/schedules/PiecewiseConstantDecay\n",
    "\n",
    "\n",
    "step = tf.Variable(0, trainable=False)   # Variable to store and get step number in training\n",
    "\n",
    "# some numbers are multiples of 301 cause these are steps per epoch with batch size 32\n",
    "boundaries = [10,50,100, 602, 903]\n",
    "values = [1e-6,1e-5, 1e-4, 1e-4, 0.5e-4, 1e-5]\n",
    "learning_rate_fn = tf.keras.optimizers.schedules.PiecewiseConstantDecay(\n",
    "    boundaries, values)\n",
    "learn_rate = learning_rate_fn(step)\n",
    "\n",
    "\n",
    "adamw_opt = tfa.optimizers.AdamW(learning_rate=learn_rate,weight_decay=0.0001)\n",
    "\n",
    "\n",
    "# compiling with adam optimizer and loss as categorical crossentropy\n",
    "model.compile(optimizer=adamw_opt,\n",
    "              loss=[tf.keras.losses.mean_squared_error,tf.keras.losses.binary_crossentropy])\n",
    "\n",
    "# Plotting model with text input and two outputs\n",
    "tf.keras.utils.plot_model(model)"
   ]
  },
  {
   "cell_type": "code",
   "execution_count": 9,
   "id": "b48f8c0d",
   "metadata": {},
   "outputs": [],
   "source": [
    "# Loading trained model weights with best overall error\n",
    "\n",
    "model.load_weights('model4_save\\weights-05-2.1848.hdf5')"
   ]
  },
  {
   "cell_type": "code",
   "execution_count": 10,
   "id": "82db097a",
   "metadata": {},
   "outputs": [
    {
     "name": "stdout",
     "output_type": "stream",
     "text": [
      "Mean Deviation for % change in closing prices is :  0.85438716\n",
      "Number of correct signs predicted out of 1284 are : 888\n"
     ]
    }
   ],
   "source": [
    "prediction = model.predict([test_text,x_test_feat,test_comp])\n",
    "\n",
    "deviation = []\n",
    "for i in range(len(prediction[0])):\n",
    "    deviation.append(abs(prediction[0][i]-y_test_change[i]))\n",
    "print(\"Mean Deviation for % change in closing prices is : \",np.mean(deviation))\n",
    "\n",
    "count = 0\n",
    "sign_pred = [1 if i[0]>=0.5 else 0 for i in prediction[1]]\n",
    "for i in range(0,len(prediction[1])):\n",
    "    if sign_pred[i] == y_test_sign[i]:\n",
    "        count += 1\n",
    "        \n",
    "print(\"Number of correct signs predicted out of {} are : {}\".format(len(y_test_sign),count))"
   ]
  },
  {
   "cell_type": "markdown",
   "id": "9e19a79d",
   "metadata": {},
   "source": [
    "### Performance Analysis"
   ]
  },
  {
   "cell_type": "markdown",
   "id": "87a6a782",
   "metadata": {},
   "source": [
    "#### <li> There are two predictions from model and those are chnage prediction and sign_prediction. </li>\n",
    "#### <li> Let us analyze model performance with respect to each output. </li>"
   ]
  },
  {
   "cell_type": "markdown",
   "id": "e2c68e79",
   "metadata": {},
   "source": [
    "### 1. Change_value_prediction"
   ]
  },
  {
   "cell_type": "markdown",
   "id": "57b5f61f",
   "metadata": {},
   "source": [
    "<li> Let us first analyze the percentile values for deviation from actual values. </li>"
   ]
  },
  {
   "cell_type": "code",
   "execution_count": 22,
   "id": "509e78ca",
   "metadata": {},
   "outputs": [
    {
     "name": "stdout",
     "output_type": "stream",
     "text": [
      "0th percentile value for deviation is : 0.0007213354110717773\n",
      "10th percentile value for deviation is : 0.20876576900482177\n",
      "20th percentile value for deviation is : 0.38617049455642705\n",
      "30th percentile value for deviation is : 0.49564359486103055\n",
      "40th percentile value for deviation is : 0.6273788213729861\n",
      "50th percentile value for deviation is : 0.7295406758785248\n",
      "60th percentile value for deviation is : 0.8128521323204041\n",
      "70th percentile value for deviation is : 0.9819872438907623\n",
      "80th percentile value for deviation is : 1.1420538187026978\n",
      "90th percentile value for deviation is : 1.3895881414413456\n"
     ]
    }
   ],
   "source": [
    "deviation = np.array(deviation)\n",
    "\n",
    "for i in range(0,100,10):\n",
    "    print(\"{}th percentile value for deviation is : {}\".format(i,np.percentile(deviation,i)))"
   ]
  },
  {
   "cell_type": "markdown",
   "id": "90345d96",
   "metadata": {},
   "source": [
    "<li> Based on the percentile values, let us set a threshold as follows: </li>\n",
    "<table>\n",
    "    <tr> \n",
    "        <td><b>Category</b></td>\n",
    "        <td><b>Deviation Value</b></td>\n",
    "    </tr>\n",
    "    <tr>\n",
    "        <td> Best </td>\n",
    "        <td> <= 0.50 </td>\n",
    "    </tr>\n",
    "    <tr>\n",
    "        <td> Medium </td>\n",
    "        <td> 0.5 > & <= 1.0  </td>\n",
    "    </tr>\n",
    "    <tr>\n",
    "        <td> Worst </td>\n",
    "        <td> >= 1.0 </td>\n",
    "    </tr>\n",
    "</table>"
   ]
  },
  {
   "cell_type": "code",
   "execution_count": 23,
   "id": "f09f6e5d",
   "metadata": {},
   "outputs": [],
   "source": [
    "best_indices = []  # empty list to store best prediction indices in test data\n",
    "medium_indices = []  # empty list to store medium prediction indices in test data\n",
    "worst_indices = []  # empty list to store worst prediction indices in test data\n",
    "\n",
    "# Loop to iterate over all deviations and getting all indices\n",
    "for i in range(len(deviation)):\n",
    "    temp = deviation[i]\n",
    "    if temp <= 0.5:\n",
    "        best_indices.append(i)\n",
    "    elif temp > 0.5 and temp <= 1:\n",
    "        medium_indices.append(i)\n",
    "    else:\n",
    "        worst_indices.append(i)\n",
    "        \n",
    "best_indices = np.array(best_indices)\n",
    "medium_indices = np.array(medium_indices)\n",
    "worst_indices = np.array(worst_indices)\n",
    "\n",
    "best_points = test_data.iloc[best_indices]\n",
    "medium_points = test_data.iloc[medium_indices]\n",
    "worst_points = test_data.iloc[worst_indices]"
   ]
  },
  {
   "cell_type": "markdown",
   "id": "99806850",
   "metadata": {},
   "source": [
    "### 1.1 company_name Analysis"
   ]
  },
  {
   "cell_type": "code",
   "execution_count": 24,
   "id": "d51460b8",
   "metadata": {},
   "outputs": [
    {
     "name": "stdout",
     "output_type": "stream",
     "text": [
      "Number of predictions per Company in best points are : \n",
      " GOOG     70\n",
      "AMZN     69\n",
      "GOOGL    67\n",
      "AAPL     66\n",
      "MSFT     60\n",
      "TSLA     56\n",
      "Name: company_name, dtype: int64 \n",
      "\n",
      "\n",
      "Number of predictions per Company in medium points are : \n",
      " AMZN     92\n",
      "AAPL     91\n",
      "GOOGL    88\n",
      "MSFT     87\n",
      "TSLA     81\n",
      "GOOG     79\n",
      "Name: company_name, dtype: int64 \n",
      "\n",
      "\n",
      "Number of predictions per Company in worst points are : \n",
      " TSLA     77\n",
      "MSFT     67\n",
      "GOOG     65\n",
      "GOOGL    59\n",
      "AAPL     57\n",
      "AMZN     53\n",
      "Name: company_name, dtype: int64 \n",
      "\n",
      "\n"
     ]
    }
   ],
   "source": [
    "print(\"Number of predictions per Company in best points are : \\n\",best_points['company_name'].value_counts(),\"\\n\\n\")\n",
    "print(\"Number of predictions per Company in medium points are : \\n\",medium_points['company_name'].value_counts(),\"\\n\\n\")\n",
    "print(\"Number of predictions per Company in worst points are : \\n\",worst_points['company_name'].value_counts(),\"\\n\\n\")"
   ]
  },
  {
   "cell_type": "markdown",
   "id": "b2014a1c",
   "metadata": {},
   "source": [
    "<li> We can observe that the number distribution is almost similar for companies except for AMZN and TSLA. </li>\n",
    "<li> AMZN has highest points in best prediction while lowest points in worst predictions. </li>\n",
    "<li> Similarly, TSLA has the highest points in worst predictions while lower number of points in best and medium predictions. </li>\n",
    "<li> This means that model is performing better for AMZN while slightly less efficient for TSLA and almost similar for other companies. </li>"
   ]
  },
  {
   "cell_type": "markdown",
   "id": "d4e99752",
   "metadata": {},
   "source": [
    "### 1.2 post_date Analysis"
   ]
  },
  {
   "cell_type": "code",
   "execution_count": 25,
   "id": "3931b7d1",
   "metadata": {},
   "outputs": [
    {
     "name": "stdout",
     "output_type": "stream",
     "text": [
      "best_points start from date 2019-06-01 and end on date 2019-12-31\n",
      "medium_points start from date 2019-06-02 and end on date 2019-12-30\n",
      "worst_points start from date 2019-06-03 and end on date 2019-12-31\n"
     ]
    }
   ],
   "source": [
    "print(\"best_points start from date {} and end on date {}\".format(best_points['post_date'].values[0],best_points['post_date'].values[-1]))\n",
    "print(\"medium_points start from date {} and end on date {}\".format(medium_points['post_date'].values[0],medium_points['post_date'].values[-1]))\n",
    "print(\"worst_points start from date {} and end on date {}\".format(worst_points['post_date'].values[0],worst_points['post_date'].values[-1]))"
   ]
  },
  {
   "cell_type": "markdown",
   "id": "e3beb8df",
   "metadata": {},
   "source": [
    "<li> Hence, points in all categories are distributed almost complete duration. </li>\n",
    "<li> Let us analyze this in more detail. </li>"
   ]
  },
  {
   "cell_type": "code",
   "execution_count": 26,
   "id": "a184ff83",
   "metadata": {},
   "outputs": [
    {
     "data": {
      "image/png": "[encoded data removed]",
      "text/plain": [
       "<Figure size 1080x360 with 3 Axes>"
      ]
     },
     "metadata": {
      "needs_background": "light"
     },
     "output_type": "display_data"
    }
   ],
   "source": [
    "# Plotting date histogram\n",
    "fig = plt.figure(figsize=(15,5))\n",
    "fig.suptitle(\"Date distribution for all data points\")\n",
    "ax1 = fig.add_subplot(1,3,1)\n",
    "ax1.hist(best_points['post_date'].values)\n",
    "plt.xlabel(\"best_points\")\n",
    "plt.ylabel(\"Number of predictions\")\n",
    "\n",
    "\n",
    "ax2 = fig.add_subplot(1,3,2)\n",
    "ax2.hist(medium_points['post_date'].values)\n",
    "plt.xlabel(\"medium_points\")\n",
    "\n",
    "\n",
    "ax3 = fig.add_subplot(1,3,3)\n",
    "ax3.hist(worst_points['post_date'].values)\n",
    "plt.xlabel(\"worst_points\")\n",
    "\n",
    "plt.show()"
   ]
  },
  {
   "cell_type": "markdown",
   "id": "36f90af4",
   "metadata": {},
   "source": [
    "<li> With above plots, we can state that number of predictions according to dates are almost similar but for worst points, there are fewer prediction points in mid of June since test data points start from 01-06-2019. </li>"
   ]
  },
  {
   "cell_type": "markdown",
   "id": "81d8f3a1",
   "metadata": {},
   "source": [
    "### 1.3 tweet_text Analysis"
   ]
  },
  {
   "cell_type": "code",
   "execution_count": 27,
   "id": "4c4a0e27",
   "metadata": {},
   "outputs": [
    {
     "data": {
      "image/png": "[encoded data removed]",
      "text/plain": [
       "<Figure size 1080x360 with 3 Axes>"
      ]
     },
     "metadata": {
      "needs_background": "light"
     },
     "output_type": "display_data"
    }
   ],
   "source": [
    "# getting lengths of all combined tweet text data\n",
    "\n",
    "fig = plt.figure(figsize=(15,5))\n",
    "fig.suptitle(\"Combined tweet text length histogram\")\n",
    "ax1 = fig.add_subplot(1,3,1)\n",
    "ax1.hist([len(i.split()) for i in best_points['tweet_text'].values])\n",
    "plt.xlabel(\"best_points\")\n",
    "plt.ylabel(\"Number of predictions\")\n",
    "\n",
    "\n",
    "ax2 = fig.add_subplot(1,3,2, sharex=ax1, sharey=ax1)\n",
    "ax2.hist([len(i.split()) for i in medium_points['tweet_text'].values])\n",
    "plt.xlabel(\"medium_points\")\n",
    "\n",
    "\n",
    "ax3 = fig.add_subplot(1,3,3, sharex=ax1, sharey=ax1)\n",
    "ax3.hist([len(i.split()) for i in worst_points['tweet_text'].values])\n",
    "plt.xlabel(\"worst_points\")\n",
    "\n",
    "plt.show()"
   ]
  },
  {
   "cell_type": "markdown",
   "id": "6d8b8ab8",
   "metadata": {},
   "source": [
    "<li> We can observe that the number of data points in all cases are lesser for lower lengths since there aren't many texts with high lenghts. </li>\n",
    "<li> Also, for lengths lengths lesser than 2000, we are getting best predictions. Below apporx 3000 length, the predictions are best or medium. </li>\n",
    "<li> With text lengths 6000 to 7000, the number of best predictions are more. And beyond 10,000 length, the predictions are worst. </li>"
   ]
  },
  {
   "cell_type": "code",
   "execution_count": 28,
   "id": "32af34a7",
   "metadata": {},
   "outputs": [
    {
     "name": "stdout",
     "output_type": "stream",
     "text": [
      "(10956, 7)\n",
      "(9672, 7)\n",
      "(1284, 7)\n"
     ]
    }
   ],
   "source": [
    "print(structured_data.shape)\n",
    "print(train_data.shape)\n",
    "print(test_data.shape)"
   ]
  },
  {
   "cell_type": "code",
   "execution_count": 29,
   "id": "784cd9ad",
   "metadata": {},
   "outputs": [
    {
     "name": "stdout",
     "output_type": "stream",
     "text": [
      "Number of point in complete data with tweet text length > 8000 are :  162\n",
      "Number of point in train data with tweet text length > 8000 are :  102\n",
      "Number of point in train data with tweet text length > 8000 are :  60\n"
     ]
    }
   ],
   "source": [
    "print(\"Number of point in complete data with tweet text length > 8000 are : \",\n",
    "      len(structured_data[structured_data.tweet_text_len >= 8000].values))\n",
    "print(\"Number of point in train data with tweet text length > 8000 are : \",\n",
    "      len(train_data[train_data.tweet_text_len >= 8000].values))\n",
    "print(\"Number of point in train data with tweet text length > 8000 are : \",\n",
    "      len(test_data[test_data.tweet_text_len >= 8000].values))"
   ]
  },
  {
   "cell_type": "markdown",
   "id": "a148f657",
   "metadata": {},
   "source": [
    "### 1.4 change_label Analysis"
   ]
  },
  {
   "cell_type": "code",
   "execution_count": 30,
   "id": "ad741adb",
   "metadata": {},
   "outputs": [
    {
     "data": {
      "image/png": "[encoded data removed]",
      "text/plain": [
       "<Figure size 1080x360 with 3 Axes>"
      ]
     },
     "metadata": {
      "needs_background": "light"
     },
     "output_type": "display_data"
    }
   ],
   "source": [
    "# Plotting date histogram\n",
    "fig = plt.figure(figsize=(15,5))\n",
    "fig.suptitle(\"change_label for all data points\")\n",
    "ax1 = fig.add_subplot(1,3,1)\n",
    "ax1.hist(best_points['change_label'].values)\n",
    "plt.xlabel(\"best_points\")\n",
    "plt.ylabel(\"Number of predictions\")\n",
    "\n",
    "\n",
    "ax2 = fig.add_subplot(1,3,2, sharex=ax1)\n",
    "ax2.hist(medium_points['change_label'].values)\n",
    "plt.xlabel(\"medium_points\")\n",
    "\n",
    "\n",
    "ax3 = fig.add_subplot(1,3,3, sharex=ax1)\n",
    "ax3.hist(worst_points['change_label'].values)\n",
    "plt.xlabel(\"worst_points\")\n",
    "\n",
    "plt.show()"
   ]
  },
  {
   "cell_type": "markdown",
   "id": "ecc088cf",
   "metadata": {},
   "source": [
    "<li> We can observe that, if the % change is beyond 2.5%, then the predictions are worse. </li>\n",
    "<li> Also we can observe that that for lower deviation, best and medium points combined are more companred to worst predictions. </li>\n",
    "<li> It can be concluded that if % change is more, then that change is driven by some major factors other than tweeter and thus the model is performing worst. </li>"
   ]
  },
  {
   "cell_type": "markdown",
   "id": "d3dcbe4c",
   "metadata": {},
   "source": [
    "### 1.5 sign_change Analysis"
   ]
  },
  {
   "cell_type": "markdown",
   "id": "9a12a25b",
   "metadata": {},
   "source": [
    "#### <li> Here 0 means negative change while 1 means positive change. </li>"
   ]
  },
  {
   "cell_type": "code",
   "execution_count": 31,
   "id": "89387b13",
   "metadata": {},
   "outputs": [
    {
     "name": "stdout",
     "output_type": "stream",
     "text": [
      "Number of predictions per Company in best points are : \n",
      " 1    281\n",
      "0    107\n",
      "Name: sign_change, dtype: int64 \n",
      "\n",
      "\n",
      "Number of predictions per Company in medium points are : \n",
      " 1    384\n",
      "0    134\n",
      "Name: sign_change, dtype: int64 \n",
      "\n",
      "\n",
      "Number of predictions per Company in worst points are : \n",
      " 1    225\n",
      "0    153\n",
      "Name: sign_change, dtype: int64 \n",
      "\n",
      "\n"
     ]
    }
   ],
   "source": [
    "print(\"Number of predictions per Company in best points are : \\n\",best_points['sign_change'].value_counts(),\"\\n\\n\")\n",
    "print(\"Number of predictions per Company in medium points are : \\n\",medium_points['sign_change'].value_counts(),\"\\n\\n\")\n",
    "print(\"Number of predictions per Company in worst points are : \\n\",worst_points['sign_change'].value_counts(),\"\\n\\n\")"
   ]
  },
  {
   "cell_type": "code",
   "execution_count": 33,
   "id": "88c50a72",
   "metadata": {},
   "outputs": [
    {
     "data": {
      "image/png": "[encoded data removed]",
      "text/plain": [
       "<Figure size 1080x360 with 3 Axes>"
      ]
     },
     "metadata": {
      "needs_background": "light"
     },
     "output_type": "display_data"
    }
   ],
   "source": [
    "# Plotting date histogram\n",
    "fig = plt.figure(figsize=(15,5))\n",
    "fig.suptitle(\"sign_change for all data points\")\n",
    "ax1 = fig.add_subplot(1,3,1)\n",
    "ax1.hist(best_points['sign_change'].values)\n",
    "plt.xlabel(\"best_points\")\n",
    "plt.ylabel(\"Number of predictions\")\n",
    "\n",
    "\n",
    "ax2 = fig.add_subplot(1,3,2, sharey=ax1)\n",
    "ax2.hist(medium_points['sign_change'].values)\n",
    "plt.xlabel(\"medium_points\")\n",
    "\n",
    "\n",
    "ax3 = fig.add_subplot(1,3,3, sharey=ax1)\n",
    "ax3.hist(worst_points['sign_change'].values)\n",
    "plt.xlabel(\"worst_points\")\n",
    "\n",
    "plt.show()"
   ]
  },
  {
   "cell_type": "markdown",
   "id": "b06543a8",
   "metadata": {},
   "source": [
    "<li> We can see that the proportion of worst prediction points is more for negative change. </li>\n",
    "<li> Hence model is able to detect positive change more efficiently when compared to negative chnage. </li>"
   ]
  },
  {
   "cell_type": "markdown",
   "id": "2ea787eb",
   "metadata": {},
   "source": [
    "## 2. sign_change prediction"
   ]
  },
  {
   "cell_type": "markdown",
   "id": "261515d8",
   "metadata": {},
   "source": [
    "<li> Sign change prediction is a binary variable and takes values 0 & 1. </li>\n",
    "<li> Sigmoid activation was used for output layer of this prediction hence the output will be in in form as probability score.</li>\n",
    "<li> Based on this probability score, the points were classified in three categories as follows </li>"
   ]
  },
  {
   "cell_type": "markdown",
   "id": "8e782a1c",
   "metadata": {},
   "source": [
    "<table>\n",
    "    <tr> \n",
    "        <td><b>Category</b></td>\n",
    "        <td><b>Output Score</b></td>\n",
    "    </tr>\n",
    "    <tr>\n",
    "        <td> Best </td>\n",
    "        <td> <li> y_true = 0 and score <= 0.30 </li>\n",
    "             <li> y_true = 1 and score >= 0.70  </li> </td>\n",
    "    </tr>\n",
    "    <tr>\n",
    "        <td> Medium </td>\n",
    "        <td> <li> y_true = 0 and 0.3 < score <= 0.45 </li>\n",
    "             <li> y_true = 1 and 0.55 <= score < 0.70  </li> </td>\n",
    "    </tr>\n",
    "    <tr>\n",
    "        <td> Worst </td>\n",
    "        <td> 0.45 < score < 0.55 </td>\n",
    "    </tr>\n",
    "</table>\n",
    "\n",
    "<li> It is assumed that the probability scores between 0.45 and 0.55 give random output and it is difficult to conclude from these scores. </li>"
   ]
  },
  {
   "cell_type": "code",
   "execution_count": 23,
   "id": "f82252bc",
   "metadata": {},
   "outputs": [],
   "source": [
    "best_indices = []  # empty list to store best prediction indices in test data\n",
    "medium_indices = []  # empty list to store medium prediction indices in test data\n",
    "worst_indices = []  # empty list to store worst prediction indices in test data\n",
    "\n",
    "for i in range(len(y_test_sign)):\n",
    "    if ((y_test_sign[i] == 0 and prediction[1][i] <= 0.3) \n",
    "    or (y_test_sign[i] == 1 and prediction[1][i] >= 0.7)):\n",
    "        best_indices.append(i)\n",
    "    elif ((y_test_sign[i] == 0 and prediction[1][i] > 0.3 and prediction[1][i] <= 0.45)\n",
    "    or (y_test_sign[i] == 1 and prediction[1][i] >= 0.55 and prediction[1][i] < 0.7)):\n",
    "        medium_indices.append(i)\n",
    "    else:\n",
    "        worst_indices.append(i)\n",
    "        \n",
    "best_indices = np.array(best_indices)\n",
    "medium_indices = np.array(medium_indices)\n",
    "worst_indices = np.array(worst_indices)\n",
    "\n",
    "best_points = test_data.iloc[best_indices]\n",
    "medium_points = test_data.iloc[medium_indices]\n",
    "worst_points = test_data.iloc[worst_indices]"
   ]
  },
  {
   "cell_type": "code",
   "execution_count": 24,
   "id": "41618640",
   "metadata": {},
   "outputs": [
    {
     "name": "stdout",
     "output_type": "stream",
     "text": [
      "Number of best prediction data points are :  0\n",
      "Number of medium prediction data points are :  604\n",
      "Number of worst prediction data points are :  680\n"
     ]
    }
   ],
   "source": [
    "print(\"Number of best prediction data points are : \",len(best_indices))\n",
    "print(\"Number of medium prediction data points are : \",len(medium_indices))\n",
    "print(\"Number of worst prediction data points are : \",len(worst_indices))"
   ]
  },
  {
   "cell_type": "markdown",
   "id": "2c555198",
   "metadata": {},
   "source": [
    "### 2.1 company_name Analysis"
   ]
  },
  {
   "cell_type": "code",
   "execution_count": 25,
   "id": "7de70c8b",
   "metadata": {},
   "outputs": [
    {
     "name": "stdout",
     "output_type": "stream",
     "text": [
      "Number of predictions per Company in best points are : \n",
      " Series([], Name: company_name, dtype: int64) \n",
      "\n",
      "\n",
      "Number of predictions per Company in medium points are : \n",
      " AAPL     104\n",
      "MSFT     103\n",
      "TSLA     102\n",
      "GOOGL     99\n",
      "GOOG      98\n",
      "AMZN      98\n",
      "Name: company_name, dtype: int64 \n",
      "\n",
      "\n",
      "Number of predictions per Company in worst points are : \n",
      " AMZN     116\n",
      "GOOG     116\n",
      "GOOGL    115\n",
      "TSLA     112\n",
      "MSFT     111\n",
      "AAPL     110\n",
      "Name: company_name, dtype: int64 \n",
      "\n",
      "\n"
     ]
    }
   ],
   "source": [
    "print(\"Number of predictions per Company in best points are : \\n\",best_points['company_name'].value_counts(),\"\\n\\n\")\n",
    "print(\"Number of predictions per Company in medium points are : \\n\",medium_points['company_name'].value_counts(),\"\\n\\n\")\n",
    "print(\"Number of predictions per Company in worst points are : \\n\",worst_points['company_name'].value_counts(),\"\\n\\n\")"
   ]
  },
  {
   "cell_type": "markdown",
   "id": "3ae5fbc8",
   "metadata": {},
   "source": [
    "<li> We can observe that, the distribution is identical for best performing points and almost identical for medium performing points. </li>\n",
    "<li> TSLA is performing better when compared to others since it has slightly higher points in medium performance and lowest points with worst performance. </li>\n",
    "<li> GOOGL,GOOG have comparatively less efficient predictions since lowest number of points in medium performance and highest number of points in worst performance. </li>"
   ]
  },
  {
   "cell_type": "markdown",
   "id": "bae7df20",
   "metadata": {},
   "source": [
    "### 2.2 post_date Analysis"
   ]
  },
  {
   "cell_type": "code",
   "execution_count": 26,
   "id": "9dfad137",
   "metadata": {},
   "outputs": [
    {
     "ename": "IndexError",
     "evalue": "index 0 is out of bounds for axis 0 with size 0",
     "output_type": "error",
     "traceback": [
      "\u001b[1;31m---------------------------------------------------------------------------\u001b[0m",
      "\u001b[1;31mIndexError\u001b[0m                                Traceback (most recent call last)",
      "\u001b[1;32m<ipython-input-26-ad7a803556a9>\u001b[0m in \u001b[0;36m<module>\u001b[1;34m\u001b[0m\n\u001b[1;32m----> 1\u001b[1;33m \u001b[0mprint\u001b[0m\u001b[1;33m(\u001b[0m\u001b[1;34m\"best_points start from date {} and end on date {}\"\u001b[0m\u001b[1;33m.\u001b[0m\u001b[0mformat\u001b[0m\u001b[1;33m(\u001b[0m\u001b[0mbest_points\u001b[0m\u001b[1;33m[\u001b[0m\u001b[1;34m'post_date'\u001b[0m\u001b[1;33m]\u001b[0m\u001b[1;33m.\u001b[0m\u001b[0mvalues\u001b[0m\u001b[1;33m[\u001b[0m\u001b[1;36m0\u001b[0m\u001b[1;33m]\u001b[0m\u001b[1;33m,\u001b[0m\u001b[0mbest_points\u001b[0m\u001b[1;33m[\u001b[0m\u001b[1;34m'post_date'\u001b[0m\u001b[1;33m]\u001b[0m\u001b[1;33m.\u001b[0m\u001b[0mvalues\u001b[0m\u001b[1;33m[\u001b[0m\u001b[1;33m-\u001b[0m\u001b[1;36m1\u001b[0m\u001b[1;33m]\u001b[0m\u001b[1;33m)\u001b[0m\u001b[1;33m)\u001b[0m\u001b[1;33m\u001b[0m\u001b[1;33m\u001b[0m\u001b[0m\n\u001b[0m\u001b[0;32m      2\u001b[0m \u001b[0mprint\u001b[0m\u001b[1;33m(\u001b[0m\u001b[1;34m\"medium_points start from date {} and end on date {}\"\u001b[0m\u001b[1;33m.\u001b[0m\u001b[0mformat\u001b[0m\u001b[1;33m(\u001b[0m\u001b[0mmedium_points\u001b[0m\u001b[1;33m[\u001b[0m\u001b[1;34m'post_date'\u001b[0m\u001b[1;33m]\u001b[0m\u001b[1;33m.\u001b[0m\u001b[0mvalues\u001b[0m\u001b[1;33m[\u001b[0m\u001b[1;36m0\u001b[0m\u001b[1;33m]\u001b[0m\u001b[1;33m,\u001b[0m\u001b[0mmedium_points\u001b[0m\u001b[1;33m[\u001b[0m\u001b[1;34m'post_date'\u001b[0m\u001b[1;33m]\u001b[0m\u001b[1;33m.\u001b[0m\u001b[0mvalues\u001b[0m\u001b[1;33m[\u001b[0m\u001b[1;33m-\u001b[0m\u001b[1;36m1\u001b[0m\u001b[1;33m]\u001b[0m\u001b[1;33m)\u001b[0m\u001b[1;33m)\u001b[0m\u001b[1;33m\u001b[0m\u001b[1;33m\u001b[0m\u001b[0m\n\u001b[0;32m      3\u001b[0m \u001b[0mprint\u001b[0m\u001b[1;33m(\u001b[0m\u001b[1;34m\"worst_points start from date {} and end on date {}\"\u001b[0m\u001b[1;33m.\u001b[0m\u001b[0mformat\u001b[0m\u001b[1;33m(\u001b[0m\u001b[0mworst_points\u001b[0m\u001b[1;33m[\u001b[0m\u001b[1;34m'post_date'\u001b[0m\u001b[1;33m]\u001b[0m\u001b[1;33m.\u001b[0m\u001b[0mvalues\u001b[0m\u001b[1;33m[\u001b[0m\u001b[1;36m0\u001b[0m\u001b[1;33m]\u001b[0m\u001b[1;33m,\u001b[0m\u001b[0mworst_points\u001b[0m\u001b[1;33m[\u001b[0m\u001b[1;34m'post_date'\u001b[0m\u001b[1;33m]\u001b[0m\u001b[1;33m.\u001b[0m\u001b[0mvalues\u001b[0m\u001b[1;33m[\u001b[0m\u001b[1;33m-\u001b[0m\u001b[1;36m1\u001b[0m\u001b[1;33m]\u001b[0m\u001b[1;33m)\u001b[0m\u001b[1;33m)\u001b[0m\u001b[1;33m\u001b[0m\u001b[1;33m\u001b[0m\u001b[0m\n",
      "\u001b[1;31mIndexError\u001b[0m: index 0 is out of bounds for axis 0 with size 0"
     ]
    }
   ],
   "source": [
    "print(\"best_points start from date {} and end on date {}\".format(best_points['post_date'].values[0],best_points['post_date'].values[-1]))\n",
    "print(\"medium_points start from date {} and end on date {}\".format(medium_points['post_date'].values[0],medium_points['post_date'].values[-1]))\n",
    "print(\"worst_points start from date {} and end on date {}\".format(worst_points['post_date'].values[0],worst_points['post_date'].values[-1]))"
   ]
  },
  {
   "cell_type": "markdown",
   "id": "caa37b32",
   "metadata": {},
   "source": [
    "<li> Hence, points in all categories are distributed almost complete duration. </li>\n",
    "<li> Let us analyze this in more detail. </li>"
   ]
  },
  {
   "cell_type": "code",
   "execution_count": 27,
   "id": "6a3bb7f9",
   "metadata": {},
   "outputs": [
    {
     "data": {
      "image/png": "[encoded data removed]",
      "text/plain": [
       "<Figure size 1080x360 with 3 Axes>"
      ]
     },
     "metadata": {
      "needs_background": "light"
     },
     "output_type": "display_data"
    }
   ],
   "source": [
    "# Plotting date histogram\n",
    "fig = plt.figure(figsize=(15,5))\n",
    "fig.suptitle(\"Date distribution for all data points\")\n",
    "ax1 = fig.add_subplot(1,3,1)\n",
    "ax1.hist(best_points['post_date'].values)\n",
    "plt.xlabel(\"best_points\")\n",
    "plt.ylabel(\"Number of predictions\")\n",
    "\n",
    "\n",
    "ax2 = fig.add_subplot(1,3,2, sharey=ax1)\n",
    "ax2.hist(medium_points['post_date'].values)\n",
    "plt.xlabel(\"medium_points\")\n",
    "\n",
    "\n",
    "ax3 = fig.add_subplot(1,3,3, sharey=ax1)\n",
    "ax3.hist(worst_points['post_date'].values)\n",
    "plt.xlabel(\"worst_points\")\n",
    "\n",
    "plt.show()"
   ]
  },
  {
   "cell_type": "markdown",
   "id": "82bbf87b",
   "metadata": {},
   "source": [
    "<li> It is difficult to conclude from above plots as although the number of datapoints are different in each category but the distribution is almost similar in all three categories. </li>"
   ]
  },
  {
   "cell_type": "markdown",
   "id": "fbc980f2",
   "metadata": {},
   "source": [
    "### 2.3 tweet_text Analysis"
   ]
  },
  {
   "cell_type": "code",
   "execution_count": 28,
   "id": "288c9d91",
   "metadata": {},
   "outputs": [
    {
     "data": {
      "image/png": "[encoded data removed]",
      "text/plain": [
       "<Figure size 1080x360 with 3 Axes>"
      ]
     },
     "metadata": {
      "needs_background": "light"
     },
     "output_type": "display_data"
    }
   ],
   "source": [
    "# getting lengths of all combined tweet text data\n",
    "\n",
    "fig = plt.figure(figsize=(15,5))\n",
    "fig.suptitle(\"Combined tweet text length histogram\")\n",
    "ax1 = fig.add_subplot(1,3,1)\n",
    "ax1.hist([len(i.split()) for i in best_points['tweet_text'].values])\n",
    "plt.xlabel(\"best_points\")\n",
    "plt.ylabel(\"Number of predictions\")\n",
    "\n",
    "\n",
    "ax2 = fig.add_subplot(1,3,2, sharex=ax1)\n",
    "ax2.hist([len(i.split()) for i in medium_points['tweet_text'].values])\n",
    "plt.xlabel(\"medium_points\")\n",
    "\n",
    "\n",
    "ax3 = fig.add_subplot(1,3,3, sharex=ax1)\n",
    "ax3.hist([len(i.split()) for i in worst_points['tweet_text'].values])\n",
    "plt.xlabel(\"worst_points\")\n",
    "\n",
    "plt.show()"
   ]
  },
  {
   "cell_type": "markdown",
   "id": "66228df8",
   "metadata": {},
   "source": [
    "<li> Here also , tweets text with more length is performing worst while tweet text with lower length have higher number of best and medium category predictions. </li>"
   ]
  },
  {
   "cell_type": "markdown",
   "id": "427821df",
   "metadata": {},
   "source": [
    "### 2.4 change_label Analysis"
   ]
  },
  {
   "cell_type": "code",
   "execution_count": 29,
   "id": "2aa8dd03",
   "metadata": {},
   "outputs": [
    {
     "data": {
      "image/png": "[encoded data removed]",
      "text/plain": [
       "<Figure size 1080x360 with 3 Axes>"
      ]
     },
     "metadata": {
      "needs_background": "light"
     },
     "output_type": "display_data"
    }
   ],
   "source": [
    "# Plotting date histogram\n",
    "fig = plt.figure(figsize=(15,5))\n",
    "fig.suptitle(\"change_label for all data points\")\n",
    "ax1 = fig.add_subplot(1,3,1)\n",
    "ax1.hist(best_points['change_label'].values)\n",
    "plt.xlabel(\"best_points\")\n",
    "plt.ylabel(\"Number of predictions\")\n",
    "\n",
    "\n",
    "ax2 = fig.add_subplot(1,3,2, sharex=ax1, sharey=ax1)\n",
    "ax2.hist(medium_points['change_label'].values)\n",
    "plt.xlabel(\"medium_points\")\n",
    "\n",
    "\n",
    "ax3 = fig.add_subplot(1,3,3, sharex=ax1, sharey=ax1)\n",
    "ax3.hist(worst_points['change_label'].values)\n",
    "plt.xlabel(\"worst_points\")\n",
    "\n",
    "plt.show()"
   ]
  },
  {
   "cell_type": "markdown",
   "id": "24b47636",
   "metadata": {},
   "source": [
    "<li> We can observe most of the points in best and medium category have lower value of %change value. </li>\n",
    "<li> Beyond 2.5% change value, the prediction is worst. </li>"
   ]
  },
  {
   "cell_type": "markdown",
   "id": "b6377081",
   "metadata": {},
   "source": [
    "### 2.5 sign_change Analysis"
   ]
  },
  {
   "cell_type": "markdown",
   "id": "b2e6116b",
   "metadata": {},
   "source": [
    "#### <li> Here 0 means negative change while 1 means positive change. </li>"
   ]
  },
  {
   "cell_type": "code",
   "execution_count": 30,
   "id": "f516ebbd",
   "metadata": {},
   "outputs": [
    {
     "name": "stdout",
     "output_type": "stream",
     "text": [
      "Number of predictions per Company in best points are : \n",
      " Series([], Name: sign_change, dtype: int64) \n",
      "\n",
      "\n",
      "Number of predictions per Company in medium points are : \n",
      " 1    601\n",
      "0      3\n",
      "Name: sign_change, dtype: int64 \n",
      "\n",
      "\n",
      "Number of predictions per Company in worst points are : \n",
      " 0    391\n",
      "1    289\n",
      "Name: sign_change, dtype: int64 \n",
      "\n",
      "\n"
     ]
    }
   ],
   "source": [
    "print(\"Number of predictions per Company in best points are : \\n\",best_points['sign_change'].value_counts(),\"\\n\\n\")\n",
    "print(\"Number of predictions per Company in medium points are : \\n\",medium_points['sign_change'].value_counts(),\"\\n\\n\")\n",
    "print(\"Number of predictions per Company in worst points are : \\n\",worst_points['sign_change'].value_counts(),\"\\n\\n\")"
   ]
  },
  {
   "cell_type": "code",
   "execution_count": 31,
   "id": "d7760ff7",
   "metadata": {},
   "outputs": [
    {
     "data": {
      "image/png": "[encoded data removed]",
      "text/plain": [
       "<Figure size 1080x360 with 3 Axes>"
      ]
     },
     "metadata": {
      "needs_background": "light"
     },
     "output_type": "display_data"
    }
   ],
   "source": [
    "# Plotting date histogram\n",
    "fig = plt.figure(figsize=(15,5))\n",
    "fig.suptitle(\"sign_change for all data points\")\n",
    "ax1 = fig.add_subplot(1,3,1)\n",
    "ax1.hist(best_points['sign_change'].values)\n",
    "plt.xlabel(\"best_points\")\n",
    "plt.ylabel(\"Number of predictions\")\n",
    "\n",
    "\n",
    "ax2 = fig.add_subplot(1,3,2)\n",
    "ax2.hist(medium_points['sign_change'].values)\n",
    "plt.xlabel(\"medium_points\")\n",
    "\n",
    "\n",
    "ax3 = fig.add_subplot(1,3,3)\n",
    "ax3.hist(worst_points['sign_change'].values)\n",
    "plt.xlabel(\"worst_points\")\n",
    "\n",
    "plt.show()"
   ]
  },
  {
   "cell_type": "markdown",
   "id": "10e98c5f",
   "metadata": {},
   "source": [
    "<li> We can see all the best performing points have sign change label as 1. In medium performing category as well dominating label is 1. </li>\n",
    "<li> The worst performance is observed for negative sign change. </li>"
   ]
  },
  {
   "cell_type": "markdown",
   "id": "e1a4d03d",
   "metadata": {},
   "source": [
    "### Conclusion and Oberservations"
   ]
  },
  {
   "cell_type": "markdown",
   "id": "1237639c",
   "metadata": {},
   "source": [
    "<li> With all the observations obatained with respect to both class labels, we can say that model has some strong areas of performance and also some wek areas. </li>\n",
    "<li> With analysis of all the companies, with change prediction, AMZN is performing better while TSLA is performing worst. While in case of sign prediction, TSLA came out to be the better performing class label. </li>\n",
    "<li> The prediction w.r.t. date is not varying much with both class labels. </li>\n",
    "<li> Also it was observed that model is not performing upto the mark for both class labels if combined tweet text length value is higher beyond 8000. </li>\n",
    "<li> Also, the % change value label value should be low for a good performance since there are very lesser values with high %change values hence model do not get enough data points in that region to train. </li>\n",
    "<li> Also when compared to positive sign change labels(sign_change=1), there are are very few negative change values(sign_change=0). Hence, there is an imbalance in data but the imabalance is not present with %closing price change except for few high values.</li>\n",
    "<li> Hence while handling imbalance in sign_change label a single model might not be sufficient to predict all the aspects of this price change prediction. </li>"
   ]
  }
 ],
 "metadata": {
  "kernelspec": {
   "display_name": "Python 3",
   "language": "python",
   "name": "python3"
  },
  "language_info": {
   "codemirror_mode": {
    "name": "ipython",
    "version": 3
   },
   "file_extension": ".py",
   "mimetype": "text/x-python",
   "name": "python",
   "nbconvert_exporter": "python",
   "pygments_lexer": "ipython3",
   "version": "3.8.8"
  }
 },
 "nbformat": 4,
 "nbformat_minor": 5
}
