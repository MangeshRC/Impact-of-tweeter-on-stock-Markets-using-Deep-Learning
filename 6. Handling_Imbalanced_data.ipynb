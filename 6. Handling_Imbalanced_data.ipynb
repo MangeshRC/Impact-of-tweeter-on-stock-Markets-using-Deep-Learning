{
 "cells": [
  {
   "cell_type": "markdown",
   "id": "61a301bf",
   "metadata": {},
   "source": [
    "# Handling Imbalanced Data"
   ]
  },
  {
   "cell_type": "code",
   "execution_count": 2,
   "id": "080eedd7",
   "metadata": {},
   "outputs": [],
   "source": [
    "# importing libraries\n",
    "\n",
    "import pandas as pd\n",
    "import numpy as np\n",
    "import tensorflow as tf\n",
    "import os\n",
    "# for some models GPU capacity was not enough hence trained those models by disabling GPU with below line\n",
    "os.environ[\"CUDA_VISIBLE_DEVICES\"]=\"-1\"\n",
    "from tensorflow.keras.preprocessing.text import Tokenizer\n",
    "from tensorflow.keras.preprocessing.sequence import pad_sequences\n",
    "import pickle\n",
    "from tensorflow.keras.layers import Dense,Flatten,Embedding,Concatenate\n",
    "from tensorflow.keras.layers import Conv1D,MaxPooling1D,Dropout,Conv2D,MaxPooling2D\n",
    "from tensorflow.keras.layers import Input,Activation,LSTM,BatchNormalization\n",
    "from tensorflow.keras.models import Model\n",
    "from sklearn.preprocessing import Normalizer\n",
    "from sklearn.metrics import roc_curve,roc_auc_score,f1_score\n",
    "import matplotlib.pyplot as plt\n",
    "from sklearn.preprocessing import StandardScaler\n",
    "from sklearn.preprocessing import OneHotEncoder\n",
    "from tqdm import tqdm\n",
    "from sklearn.preprocessing import minmax_scale,MinMaxScaler\n",
    "import tensorflow_text as text\n",
    "import pathlib\n",
    "import tensorflow_addons as tfa"
   ]
  },
  {
   "cell_type": "code",
   "execution_count": 3,
   "id": "dfc50053",
   "metadata": {},
   "outputs": [
    {
     "name": "stdout",
     "output_type": "stream",
     "text": [
      "Shape of created dataframe is :  (10956, 6)\n",
      "Shape of created featrure matrix in feat_mat column is :  (500, 310, 1)\n"
     ]
    }
   ],
   "source": [
    "# reading preprocessed data\n",
    "\n",
    "structured_data = pickle.load(open(\"structured_data.pkl\",\"rb\"))\n",
    "print(\"Shape of created dataframe is : \",structured_data.shape)\n",
    "print(\"Shape of created featrure matrix in feat_mat column is : \",structured_data['feat_mat'].values[1].shape)"
   ]
  },
  {
   "cell_type": "code",
   "execution_count": 4,
   "id": "99811706",
   "metadata": {},
   "outputs": [
    {
     "data": {
      "text/html": [
       "<div>\n",
       "<style scoped>\n",
       "    .dataframe tbody tr th:only-of-type {\n",
       "        vertical-align: middle;\n",
       "    }\n",
       "\n",
       "    .dataframe tbody tr th {\n",
       "        vertical-align: top;\n",
       "    }\n",
       "\n",
       "    .dataframe thead th {\n",
       "        text-align: right;\n",
       "    }\n",
       "</style>\n",
       "<table border=\"1\" class=\"dataframe\">\n",
       "  <thead>\n",
       "    <tr style=\"text-align: right;\">\n",
       "      <th></th>\n",
       "      <th>post_date</th>\n",
       "      <th>tweet_text</th>\n",
       "      <th>company_name</th>\n",
       "      <th>feat_mat</th>\n",
       "      <th>change_label</th>\n",
       "      <th>sign_change</th>\n",
       "      <th>tweet_text_len</th>\n",
       "    </tr>\n",
       "  </thead>\n",
       "  <tbody>\n",
       "    <tr>\n",
       "      <th>0</th>\n",
       "      <td>2015-01-01</td>\n",
       "      <td>aapl store line sapporo japan lucky bag pic ht...</td>\n",
       "      <td>AAPL</td>\n",
       "      <td>[[[0.0031695721077654], [0.0020060180541624], ...</td>\n",
       "      <td>0.0</td>\n",
       "      <td>1</td>\n",
       "      <td>501</td>\n",
       "    </tr>\n",
       "    <tr>\n",
       "      <th>1826</th>\n",
       "      <td>2015-01-01</td>\n",
       "      <td>aapl store line sapporo japan lucky bag pic ht...</td>\n",
       "      <td>AMZN</td>\n",
       "      <td>[[[0.0031695721077654], [0.0020060180541624], ...</td>\n",
       "      <td>0.0</td>\n",
       "      <td>1</td>\n",
       "      <td>501</td>\n",
       "    </tr>\n",
       "    <tr>\n",
       "      <th>9130</th>\n",
       "      <td>2015-01-01</td>\n",
       "      <td>aapl store line sapporo japan lucky bag pic ht...</td>\n",
       "      <td>GOOG</td>\n",
       "      <td>[[[0.0031695721077654], [0.0020060180541624], ...</td>\n",
       "      <td>0.0</td>\n",
       "      <td>1</td>\n",
       "      <td>501</td>\n",
       "    </tr>\n",
       "    <tr>\n",
       "      <th>3652</th>\n",
       "      <td>2015-01-01</td>\n",
       "      <td>aapl store line sapporo japan lucky bag pic ht...</td>\n",
       "      <td>GOOGL</td>\n",
       "      <td>[[[0.0031695721077654], [0.0020060180541624], ...</td>\n",
       "      <td>0.0</td>\n",
       "      <td>1</td>\n",
       "      <td>501</td>\n",
       "    </tr>\n",
       "    <tr>\n",
       "      <th>7304</th>\n",
       "      <td>2015-01-01</td>\n",
       "      <td>aapl store line sapporo japan lucky bag pic ht...</td>\n",
       "      <td>MSFT</td>\n",
       "      <td>[[[0.0031695721077654], [0.0020060180541624], ...</td>\n",
       "      <td>0.0</td>\n",
       "      <td>1</td>\n",
       "      <td>501</td>\n",
       "    </tr>\n",
       "  </tbody>\n",
       "</table>\n",
       "</div>"
      ],
      "text/plain": [
       "       post_date                                         tweet_text  \\\n",
       "0     2015-01-01  aapl store line sapporo japan lucky bag pic ht...   \n",
       "1826  2015-01-01  aapl store line sapporo japan lucky bag pic ht...   \n",
       "9130  2015-01-01  aapl store line sapporo japan lucky bag pic ht...   \n",
       "3652  2015-01-01  aapl store line sapporo japan lucky bag pic ht...   \n",
       "7304  2015-01-01  aapl store line sapporo japan lucky bag pic ht...   \n",
       "\n",
       "     company_name                                           feat_mat  \\\n",
       "0            AAPL  [[[0.0031695721077654], [0.0020060180541624], ...   \n",
       "1826         AMZN  [[[0.0031695721077654], [0.0020060180541624], ...   \n",
       "9130         GOOG  [[[0.0031695721077654], [0.0020060180541624], ...   \n",
       "3652        GOOGL  [[[0.0031695721077654], [0.0020060180541624], ...   \n",
       "7304         MSFT  [[[0.0031695721077654], [0.0020060180541624], ...   \n",
       "\n",
       "      change_label sign_change  tweet_text_len  \n",
       "0              0.0           1             501  \n",
       "1826           0.0           1             501  \n",
       "9130           0.0           1             501  \n",
       "3652           0.0           1             501  \n",
       "7304           0.0           1             501  "
      ]
     },
     "execution_count": 4,
     "metadata": {},
     "output_type": "execute_result"
    }
   ],
   "source": [
    "# for missing data for any company, on a particular day, was assigned 0 as sign change label\n",
    "# hence removing those to have cleaned data\n",
    "# structured_data = structured_data[structured_data.sign_change != 0]\n",
    "\n",
    "\n",
    "# changing -1 & 1 to 0 & 1 to have binary crossentropy as loss and sigmoid as final layer activation.\n",
    "# structured_data['sign_change'] = structured_data.sign_change.apply(lambda x:0 if x==-1 else 1)\n",
    "\n",
    "structured_data = structured_data.sort_values(by=['post_date','company_name'])\n",
    "\n",
    "structured_data['tweet_text_len'] = structured_data.tweet_text.apply(lambda x:len(x.split()))\n",
    "\n",
    "structured_data.head()"
   ]
  },
  {
   "cell_type": "code",
   "execution_count": 5,
   "id": "e8ef3e78",
   "metadata": {},
   "outputs": [
    {
     "name": "stdout",
     "output_type": "stream",
     "text": [
      "Number of data points in train data are : 9672\n",
      "Number of data points in train data are : 1284\n"
     ]
    }
   ],
   "source": [
    "# the data that we have is from '2015-01-01' to '2019-12-31'\n",
    "# Hence taking last 6 months as test data and 4 years, 6 months of training data from the dataset\n",
    "train_data = structured_data[structured_data.post_date < '2019-06-01']\n",
    "test_data = structured_data[structured_data.post_date >= '2019-06-01']\n",
    "\n",
    "\n",
    "# getting train data for all models\n",
    "# two class labels are there, one is magnitude of % change\n",
    "# while second one is sign of change (values 0 or 1 : 0 - negative change, 1 - positive change)\n",
    "y_train_change = train_data['change_label'].values\n",
    "y_train_sign = train_data['sign_change'].values\n",
    "y_train_sign = y_train_sign.astype('int')\n",
    "x_train_text = train_data['tweet_text'].values\n",
    "x_train_feat = list(train_data['feat_mat'].values)\n",
    "x_train_feat = np.array(x_train_feat)\n",
    "x_train_company = train_data['company_name'].values\n",
    "\n",
    "# getting test data for all models\n",
    "y_test_change = test_data['change_label'].values\n",
    "y_test_sign = test_data['sign_change'].values\n",
    "y_test_sign = y_test_sign.astype('int')\n",
    "x_test_text = test_data['tweet_text'].values\n",
    "x_test_feat = list(test_data['feat_mat'].values)\n",
    "x_test_feat = np.array(x_test_feat)\n",
    "x_test_company = test_data['company_name'].values\n",
    "\n",
    "print(\"Number of data points in train data are :\",train_data.shape[0])\n",
    "print(\"Number of data points in train data are :\",test_data.shape[0])"
   ]
  },
  {
   "cell_type": "code",
   "execution_count": 7,
   "id": "e35c3994",
   "metadata": {},
   "outputs": [],
   "source": [
    "# referred below link to implement subword tokenizer\n",
    "# https://www.tensorflow.org/text/guide/subwords_tokenizer\n",
    "\n",
    "bert_tokenizer_params=dict(lower_case=True)\n",
    "reserved_tokens=[]\n",
    "\n",
    "bert_vocab_args = dict(\n",
    "    # The target vocabulary size\n",
    "    vocab_size = 8000,\n",
    "    # Reserved tokens that must be included in the vocabulary\n",
    "    reserved_tokens=reserved_tokens,\n",
    "    # Arguments for `text.BertTokenizer`\n",
    "    bert_tokenizer_params=bert_tokenizer_params,\n",
    "    # Arguments for `wordpiece_vocab.wordpiece_tokenizer_learner_lib.learn`\n",
    "    learn_params={},\n",
    ")\n",
    "\n",
    "# creating BertTokenizer object with vocab text file genrated as per reference link stated above\n",
    "en_tokenizer = text.BertTokenizer('en_vocab.txt', **bert_tokenizer_params)\n",
    "vocab_size_text = len(pathlib.Path('en_vocab.txt').read_text().splitlines())+ 1\n",
    "\n",
    "\n",
    "# Using BertTokenizer to tokenize train data\n",
    "encoded_text = en_tokenizer.tokenize(x_train_text)\n",
    "encoded_text = encoded_text.merge_dims(-2,-1)   # reducing dimension of ragged tensor\n",
    "encoded_text = encoded_text.to_list()           # converting to list to pad the sequences\n",
    "max_length = 5000                               # max length of padding\n",
    "train_text = pad_sequences(encoded_text, maxlen=max_length, padding='post')\n",
    "\n",
    "\n",
    "# Using BertTokenizer to tokenize test data \n",
    "encoded_text = en_tokenizer.tokenize(x_test_text)\n",
    "encoded_text = encoded_text.merge_dims(-2,-1)\n",
    "encoded_text = encoded_text.to_list()\n",
    "test_text = pad_sequences(encoded_text, maxlen=max_length, padding='post')\n",
    "\n",
    "\n",
    "# saving tokenizer output so that there won't be any need to recalculate this for every execution\n",
    "# pickle.dump([vocab_size_text,train_text,test_text],open(\"bert_tokens.pkl\",\"wb\"))"
   ]
  },
  {
   "cell_type": "code",
   "execution_count": null,
   "id": "04e7932d",
   "metadata": {},
   "outputs": [],
   "source": [
    "# loading saved tokenizer output\n",
    "\n",
    "[vocab_size_text,train_text,test_text] = pickle.load(open(\"bert_tokens.pkl\",\"rb\"))"
   ]
  },
  {
   "cell_type": "code",
   "execution_count": 9,
   "id": "6d1785bd",
   "metadata": {},
   "outputs": [],
   "source": [
    "# We don't need to use subwordtokenizer here since these company names are standard\n",
    "# and these will not be changed while giving as inputs\n",
    "\n",
    "\n",
    "# creating tokens for company names\n",
    "tokenizer = Tokenizer()                   # creating tokenizer object\n",
    "tokenizer.fit_on_texts(x_train_company) \n",
    "vocab_size_company = len(tokenizer.word_index) + 1\n",
    "\n",
    "# getting tokenized train data\n",
    "train_comp = np.array(tokenizer.texts_to_sequences(x_train_company))\n",
    "\n",
    "# getting tokenized test data\n",
    "test_comp = np.array(tokenizer.texts_to_sequences(x_test_company))"
   ]
  },
  {
   "cell_type": "markdown",
   "id": "cfe12cca",
   "metadata": {},
   "source": [
    "#### <li> In Model training notebook, the best model was found to be Multichannel Convolution Network with both feature Matrix and combined tweet text as input. </li>\n",
    "#### <li> Let us try to train this model by assigning weights to loss function. </li>"
   ]
  },
  {
   "cell_type": "markdown",
   "id": "be31e16d",
   "metadata": {},
   "source": [
    "## Multichannel Convolution Neural Network Model with both tweet text & feature matrix as inputs and assigning loss weights according to data point numbers"
   ]
  },
  {
   "cell_type": "code",
   "execution_count": 10,
   "id": "850e55f1",
   "metadata": {},
   "outputs": [],
   "source": [
    "# defining the model\n",
    "\n",
    "np.random.seed(0)\n",
    "tf.random.set_seed(0)\n",
    "\n",
    "# clearing previous session if it exists.\n",
    "tf.keras.backend.clear_session()\n",
    "\n",
    "# essay feature\n",
    "input_text = Input(shape=(5000,),name=\"Tweet text input\")\n",
    "\n",
    "embedding_text = Embedding(vocab_size_text, 100)(input_text)\n",
    "\n",
    "\n",
    "conv11 = Conv1D(64,kernel_size = 20,padding='same')(embedding_text)\n",
    "\n",
    "maxpool11 = MaxPooling1D(10)(conv11)\n",
    "\n",
    "\n",
    "conv12 = Conv1D(64,kernel_size = 10,padding='same')(embedding_text)\n",
    "\n",
    "maxpool12 = MaxPooling1D(10)(conv12)\n",
    "\n",
    "\n",
    "concat1 = Concatenate()([maxpool11,maxpool12])\n",
    "\n",
    "flatten1 = Flatten()(concat1)\n",
    "\n",
    "\n",
    "\n",
    "input_feat = Input(shape=(500,310,1),name=\"feature_matrix input\")\n",
    "\n",
    "conv21 = Conv2D(64,(3,3),padding='same')(input_feat)\n",
    "\n",
    "pool21 = MaxPooling2D()(conv21)\n",
    "\n",
    "flatten2 = Flatten()(pool21)\n",
    "\n",
    "\n",
    "\n",
    "input_company = Input(shape=(1,),name=\"Company_name\")\n",
    "\n",
    "embedding_company = Embedding(vocab_size_company, 6)(input_company)\n",
    "\n",
    "flatten3 = Flatten()(embedding_company)\n",
    "\n",
    "\n",
    "\n",
    "concat = Concatenate()([flatten1,flatten2,flatten3])\n",
    "\n",
    "dense_layer1 = Dense(50,activation='relu',kernel_initializer=tf.keras.initializers.he_uniform())(concat)\n",
    "\n",
    "dense_layer2 = Dense(50,activation='relu',kernel_initializer=tf.keras.initializers.he_uniform())(dense_layer1)\n",
    "\n",
    "dense_layer3 = Dense(50,activation='relu',kernel_initializer=tf.keras.initializers.he_uniform())(dense_layer2)\n",
    "\n",
    "dense_layer4 = Dense(50,activation='relu',kernel_initializer=tf.keras.initializers.he_uniform())(dense_layer3)\n",
    "\n",
    "dense_layer41 = Dense(50,activation='relu',kernel_initializer=tf.keras.initializers.he_uniform())(dense_layer4)\n",
    "\n",
    "dense_layer41 = Dense(50,activation='relu',kernel_initializer=tf.keras.initializers.he_uniform())(dense_layer41)\n",
    "\n",
    "output_sign = Dense(1,activation = 'sigmoid',name=\"sign_prediction\")(dense_layer41)\n",
    "\n",
    "dense_layer42 = Dense(50,activation='relu',kernel_initializer=tf.keras.initializers.he_uniform())(dense_layer4)\n",
    "\n",
    "dense_layer42 = Dense(50,activation='relu',kernel_initializer=tf.keras.initializers.he_uniform())(dense_layer42)\n",
    "\n",
    "output_change = Dense(1,activation='relu',name=\"Change_prediction\")(dense_layer42)\n",
    "\n",
    "\n",
    "model = Model(inputs=[input_text,input_feat,input_company]\n",
    "              ,outputs=[output_change,output_sign])"
   ]
  },
  {
   "cell_type": "code",
   "execution_count": 11,
   "id": "7d8c95b5",
   "metadata": {},
   "outputs": [],
   "source": [
    "# Referred and implemented Piece wise Decay using below link\n",
    "# https://www.tensorflow.org/api_docs/python/tf/keras/optimizers/schedules/PiecewiseConstantDecay\n",
    "\n",
    "\n",
    "step = tf.Variable(0, trainable=False)   # Variable to store and get step number in training\n",
    "\n",
    "# some numbers are multiples of 301 cause these are steps per epoch with batch size 32\n",
    "boundaries = [10,50,100, 602, 903]\n",
    "values = [1e-6,1e-5, 1e-4, 1e-4, 0.5e-4, 1e-5]\n",
    "learning_rate_fn = tf.keras.optimizers.schedules.PiecewiseConstantDecay(\n",
    "    boundaries, values)\n",
    "learn_rate = learning_rate_fn(step)\n",
    "\n",
    "\n",
    "adamw_opt = tfa.optimizers.AdamW(learning_rate=learn_rate,weight_decay=0.0001)\n",
    "\n",
    "# referred below link to assign weights\n",
    "# https://www.analyticsvidhya.com/blog/2020/10/improve-class-imbalance-class-weights/\n",
    "weights = len(train_data)/(2*train_data['sign_change'].value_counts())\n",
    "\n",
    "# compiling with adam optimizer and loss as categorical crossentropy\n",
    "model.compile(optimizer=adamw_opt,loss_weights=[None,{0:weights[0],1:weights[1]}],\n",
    "              loss=[tf.keras.losses.mean_squared_error,tf.keras.losses.binary_crossentropy])"
   ]
  },
  {
   "cell_type": "markdown",
   "id": "82586df0",
   "metadata": {},
   "source": [
    "<li> With the definition stated above for learning rate scheduler, the LR will vary according to the table given below: </li>\n",
    "<table>\n",
    "    <tr> \n",
    "        <td> <b> Steps </b> </td>\n",
    "        <td> <b> Learning rate </b> </td>\n",
    "    </tr>\n",
    "    <tr> \n",
    "        <td> 0-10 </td>\n",
    "        <td> 1e-6 </td>\n",
    "    </tr>\n",
    "     <tr> \n",
    "        <td> 10-50 </td>\n",
    "        <td> 1e-5 </td>\n",
    "    </tr>\n",
    "    <tr> \n",
    "        <td> 51-602 </td>\n",
    "        <td> 1e-4 </td>\n",
    "    </tr>\n",
    "    <tr> \n",
    "        <td> 603-903 </td>\n",
    "        <td> 0.5e-4 </td>\n",
    "    </tr>\n",
    "    <tr> \n",
    "        <td> 904-end </td>\n",
    "        <td> 1e-5 </td>\n",
    "    </tr>\n",
    "</table>\n",
    "<li> We can observe with this learning rate variation, we can achieve the LR warm up steps and then learning decay with each epoch. The decay was stopped at 1e-5 value since, no update observed beyond this LR value. </li>"
   ]
  },
  {
   "cell_type": "code",
   "execution_count": 12,
   "id": "fa3dfb5e",
   "metadata": {},
   "outputs": [
    {
     "data": {
      "image/png": "[encoded data removed]",
      "text/plain": [
       "<IPython.core.display.Image object>"
      ]
     },
     "execution_count": 12,
     "metadata": {},
     "output_type": "execute_result"
    }
   ],
   "source": [
    "# Plotting model with text input and two outputs\n",
    "tf.keras.utils.plot_model(model)"
   ]
  },
  {
   "cell_type": "code",
   "execution_count": 13,
   "id": "37a7d324",
   "metadata": {},
   "outputs": [
    {
     "name": "stdout",
     "output_type": "stream",
     "text": [
      "Model: \"model\"\n",
      "__________________________________________________________________________________________________\n",
      " Layer (type)                   Output Shape         Param #     Connected to                     \n",
      "==================================================================================================\n",
      " Tweet text input (InputLayer)  [(None, 5000)]       0           []                               \n",
      "                                                                                                  \n",
      " embedding (Embedding)          (None, 5000, 100)    701100      ['Tweet text input[0][0]']       \n",
      "                                                                                                  \n",
      " conv1d (Conv1D)                (None, 5000, 64)     128064      ['embedding[0][0]']              \n",
      "                                                                                                  \n",
      " conv1d_1 (Conv1D)              (None, 5000, 64)     64064       ['embedding[0][0]']              \n",
      "                                                                                                  \n",
      " feature_matrix input (InputLay  [(None, 500, 310, 1  0          []                               \n",
      " er)                            )]                                                                \n",
      "                                                                                                  \n",
      " max_pooling1d (MaxPooling1D)   (None, 500, 64)      0           ['conv1d[0][0]']                 \n",
      "                                                                                                  \n",
      " max_pooling1d_1 (MaxPooling1D)  (None, 500, 64)     0           ['conv1d_1[0][0]']               \n",
      "                                                                                                  \n",
      " conv2d (Conv2D)                (None, 500, 310, 64  640         ['feature_matrix input[0][0]']   \n",
      "                                )                                                                 \n",
      "                                                                                                  \n",
      " Company_name (InputLayer)      [(None, 1)]          0           []                               \n",
      "                                                                                                  \n",
      " concatenate (Concatenate)      (None, 500, 128)     0           ['max_pooling1d[0][0]',          \n",
      "                                                                  'max_pooling1d_1[0][0]']        \n",
      "                                                                                                  \n",
      " max_pooling2d (MaxPooling2D)   (None, 250, 155, 64  0           ['conv2d[0][0]']                 \n",
      "                                )                                                                 \n",
      "                                                                                                  \n",
      " embedding_1 (Embedding)        (None, 1, 6)         42          ['Company_name[0][0]']           \n",
      "                                                                                                  \n",
      " flatten (Flatten)              (None, 64000)        0           ['concatenate[0][0]']            \n",
      "                                                                                                  \n",
      " flatten_1 (Flatten)            (None, 2480000)      0           ['max_pooling2d[0][0]']          \n",
      "                                                                                                  \n",
      " flatten_2 (Flatten)            (None, 6)            0           ['embedding_1[0][0]']            \n",
      "                                                                                                  \n",
      " concatenate_1 (Concatenate)    (None, 2544006)      0           ['flatten[0][0]',                \n",
      "                                                                  'flatten_1[0][0]',              \n",
      "                                                                  'flatten_2[0][0]']              \n",
      "                                                                                                  \n",
      " dense (Dense)                  (None, 50)           127200350   ['concatenate_1[0][0]']          \n",
      "                                                                                                  \n",
      " dense_1 (Dense)                (None, 50)           2550        ['dense[0][0]']                  \n",
      "                                                                                                  \n",
      " dense_2 (Dense)                (None, 50)           2550        ['dense_1[0][0]']                \n",
      "                                                                                                  \n",
      " dense_3 (Dense)                (None, 50)           2550        ['dense_2[0][0]']                \n",
      "                                                                                                  \n",
      " dense_6 (Dense)                (None, 50)           2550        ['dense_3[0][0]']                \n",
      "                                                                                                  \n",
      " dense_4 (Dense)                (None, 50)           2550        ['dense_3[0][0]']                \n",
      "                                                                                                  \n",
      " dense_7 (Dense)                (None, 50)           2550        ['dense_6[0][0]']                \n",
      "                                                                                                  \n",
      " dense_5 (Dense)                (None, 50)           2550        ['dense_4[0][0]']                \n",
      "                                                                                                  \n",
      " Change_prediction (Dense)      (None, 1)            51          ['dense_7[0][0]']                \n",
      "                                                                                                  \n",
      " sign_prediction (Dense)        (None, 1)            51          ['dense_5[0][0]']                \n",
      "                                                                                                  \n",
      "==================================================================================================\n",
      "Total params: 128,112,212\n",
      "Trainable params: 128,112,212\n",
      "Non-trainable params: 0\n",
      "__________________________________________________________________________________________________\n"
     ]
    }
   ],
   "source": [
    "model.summary()"
   ]
  },
  {
   "cell_type": "code",
   "execution_count": 12,
   "id": "e8f0937b",
   "metadata": {},
   "outputs": [],
   "source": [
    "class RecordEpochInformation(tf.keras.callbacks.Callback):\n",
    "    \"\"\"\n",
    "        Accuracy and Loss will recorded with this callback while training\n",
    "    \"\"\"\n",
    "    def on_train_begin(self, logs={}):\n",
    "            self.loss = []\n",
    "            self.Change_prediction_loss = []\n",
    "            self.sign_prediction_loss = []\n",
    "            self.val_loss = []\n",
    "            self.val_Change_prediction_loss = []\n",
    "            self.val_sign_prediction_loss = []\n",
    "    \n",
    "    \n",
    "    def on_epoch_end(self, epoch, logs={}):\n",
    "        self.loss.append(logs.get('loss'))\n",
    "        self.Change_prediction_loss.append(logs.get('Change_prediction_loss'))\n",
    "        self.sign_prediction_loss.append(logs.get('sign_prediction_loss'))\n",
    "        self.val_loss.append(logs.get('val_loss'))\n",
    "        self.val_Change_prediction_loss.append(logs.get('val_Change_prediction_loss'))\n",
    "        self.val_sign_prediction_loss.append(logs.get('val_sign_prediction_loss'))\n",
    "        \n",
    "# Creating RecordEpochInformation class object to record info while training\n",
    "log_info = RecordEpochInformation()"
   ]
  },
  {
   "cell_type": "code",
   "execution_count": 13,
   "id": "c5d63165",
   "metadata": {},
   "outputs": [],
   "source": [
    "# defining model save callback\n",
    "\n",
    "from tensorflow.keras.callbacks import ModelCheckpoint\n",
    "\n",
    "filepath=\"model_weights/weights-{epoch:02d}-{val_loss:.4f}.hdf5\"\n",
    "checkpoint = ModelCheckpoint(filepath=filepath, monitor='val_loss',  verbose=1, save_best_only=True, mode='auto')"
   ]
  },
  {
   "cell_type": "code",
   "execution_count": 14,
   "id": "82af799a",
   "metadata": {
    "scrolled": false
   },
   "outputs": [
    {
     "name": "stdout",
     "output_type": "stream",
     "text": [
      "Epoch 1/6\n",
      "303/303 [==============================] - ETA: 0s - loss: 2.5063 - Change_prediction_loss: 1.4965 - sign_prediction_loss: 0.6661\n",
      "Epoch 00001: val_loss improved from inf to 2.74024, saving model to model_weights\\weights-01-2.7402.hdf5\n",
      "303/303 [==============================] - 970s 3s/step - loss: 2.5063 - Change_prediction_loss: 1.4965 - sign_prediction_loss: 0.6661 - val_loss: 2.7402 - val_Change_prediction_loss: 1.7632 - val_sign_prediction_loss: 0.6445\n",
      "Epoch 2/6\n",
      "303/303 [==============================] - ETA: 0s - loss: 2.3066 - Change_prediction_loss: 1.3428 - sign_prediction_loss: 0.6357\n",
      "Epoch 00002: val_loss improved from 2.74024 to 2.54043, saving model to model_weights\\weights-02-2.5404.hdf5\n",
      "303/303 [==============================] - 961s 3s/step - loss: 2.3066 - Change_prediction_loss: 1.3428 - sign_prediction_loss: 0.6357 - val_loss: 2.5404 - val_Change_prediction_loss: 1.5982 - val_sign_prediction_loss: 0.6216\n",
      "Epoch 3/6\n",
      "303/303 [==============================] - ETA: 0s - loss: 2.2543 - Change_prediction_loss: 1.3041 - sign_prediction_loss: 0.6267\n",
      "Epoch 00003: val_loss did not improve from 2.54043\n",
      "303/303 [==============================] - 852s 3s/step - loss: 2.2543 - Change_prediction_loss: 1.3041 - sign_prediction_loss: 0.6267 - val_loss: 2.5674 - val_Change_prediction_loss: 1.6290 - val_sign_prediction_loss: 0.6190\n",
      "Epoch 4/6\n",
      "303/303 [==============================] - ETA: 0s - loss: 2.2328 - Change_prediction_loss: 1.2899 - sign_prediction_loss: 0.6220\n",
      "Epoch 00004: val_loss did not improve from 2.54043\n",
      "303/303 [==============================] - 851s 3s/step - loss: 2.2328 - Change_prediction_loss: 1.2899 - sign_prediction_loss: 0.6220 - val_loss: 2.5417 - val_Change_prediction_loss: 1.5991 - val_sign_prediction_loss: 0.6218\n",
      "Epoch 5/6\n",
      "303/303 [==============================] - ETA: 0s - loss: 2.2307 - Change_prediction_loss: 1.2891 - sign_prediction_loss: 0.6211\n",
      "Epoch 00005: val_loss improved from 2.54043 to 2.47000, saving model to model_weights\\weights-05-2.4700.hdf5\n",
      "303/303 [==============================] - 865s 3s/step - loss: 2.2307 - Change_prediction_loss: 1.2891 - sign_prediction_loss: 0.6211 - val_loss: 2.4700 - val_Change_prediction_loss: 1.5264 - val_sign_prediction_loss: 0.6224\n",
      "Epoch 6/6\n",
      "303/303 [==============================] - ETA: 0s - loss: 2.2456 - Change_prediction_loss: 1.3029 - sign_prediction_loss: 0.6218\n",
      "Epoch 00006: val_loss did not improve from 2.47000\n",
      "303/303 [==============================] - 857s 3s/step - loss: 2.2456 - Change_prediction_loss: 1.3029 - sign_prediction_loss: 0.6218 - val_loss: 2.4739 - val_Change_prediction_loss: 1.5324 - val_sign_prediction_loss: 0.6211\n"
     ]
    },
    {
     "data": {
      "text/plain": [
       "<keras.callbacks.History at 0x292efeffc70>"
      ]
     },
     "execution_count": 14,
     "metadata": {},
     "output_type": "execute_result"
    }
   ],
   "source": [
    "# Creating RecordEpochInformation class object to record info while training\n",
    "log_info = RecordEpochInformation()\n",
    "\n",
    "model.fit([train_text,x_train_feat,train_comp],[y_train_change,y_train_sign],\n",
    "          epochs=6,validation_data=([test_text,x_test_feat,test_comp],[y_test_change,y_test_sign]),\n",
    "         callbacks=[log_info,checkpoint])"
   ]
  },
  {
   "cell_type": "code",
   "execution_count": 15,
   "id": "6224884d",
   "metadata": {},
   "outputs": [
    {
     "data": {
      "image/png": "[encoded data removed]",
      "text/plain": [
       "<Figure size 1080x360 with 3 Axes>"
      ]
     },
     "metadata": {
      "needs_background": "light"
     },
     "output_type": "display_data"
    }
   ],
   "source": [
    "plt.figure(figsize=(15, 5))\n",
    "plt.subplot(131)\n",
    "plt.plot(log_info.loss,label='Total Loss')\n",
    "plt.plot(log_info.val_loss,label='val_Loss')\n",
    "plt.xlabel(\"Epoch\")\n",
    "plt.ylabel(\"Total Loss\")\n",
    "plt.title(\"Epoch vs Total Loss\")\n",
    "plt.legend()\n",
    "\n",
    "plt.subplot(132)\n",
    "plt.plot(log_info.Change_prediction_loss,label='Change_prediction_loss')\n",
    "plt.plot(log_info.val_Change_prediction_loss,label='Val_Change_prediction_loss')\n",
    "plt.xlabel(\"Epoch\")\n",
    "plt.ylabel(\"Change_prediction_loss\")\n",
    "plt.title(\"Epoch vs Change_prediction_loss\")\n",
    "plt.legend()\n",
    "\n",
    "plt.subplot(133)\n",
    "plt.plot(log_info.sign_prediction_loss,label='sign_prediction_loss')\n",
    "plt.plot(log_info.val_sign_prediction_loss,label='val_sign_prediction_loss')\n",
    "plt.xlabel(\"Epoch\")\n",
    "plt.ylabel(\"sign_prediction_loss\")\n",
    "plt.title(\"Epoch vs sign_prediction_loss\")\n",
    "plt.legend()\n",
    "\n",
    "plt.show()"
   ]
  },
  {
   "cell_type": "code",
   "execution_count": 14,
   "id": "000749be",
   "metadata": {},
   "outputs": [
    {
     "name": "stdout",
     "output_type": "stream",
     "text": [
      "Mean Deviation for % change in closing prices is :  0.8439542\n",
      "Number of correct signs predicted out of 1284 are : 890\n"
     ]
    }
   ],
   "source": [
    "model.load_weights(\"model_weights\\weights-05-2.4700.hdf5\")\n",
    "\n",
    "prediction = model.predict([test_text,x_test_feat,test_comp])\n",
    "\n",
    "deviation = []\n",
    "for i in range(len(prediction[0])):\n",
    "    deviation.append(abs(prediction[0][i]-y_test_change[i]))\n",
    "print(\"Mean Deviation for % change in closing prices is : \",np.mean(deviation))\n",
    "\n",
    "count = 0\n",
    "sign_pred = [1 if i[0]>=0.5 else 0 for i in prediction[1]]\n",
    "for i in range(0,len(prediction[1])):\n",
    "    if sign_pred[i] == y_test_sign[i]:\n",
    "        count += 1\n",
    "        \n",
    "print(\"Number of correct signs predicted out of {} are : {}\".format(len(y_test_sign),count))"
   ]
  },
  {
   "cell_type": "code",
   "execution_count": 15,
   "id": "d19ef7ea",
   "metadata": {},
   "outputs": [],
   "source": [
    "# saving tokenizer output so that there won't be any need to recalculate this for every execution\n",
    "pickle.dump([tokenizer],open(\"saved_tokenizer_model.pkl\",\"wb\"))\n",
    "model.save(\"trained_model.h5\")"
   ]
  },
  {
   "cell_type": "code",
   "execution_count": 43,
   "id": "01e85c57",
   "metadata": {},
   "outputs": [],
   "source": [
    "from tensorflow.keras.models import load_model\n",
    "model = load_model(\"trained_model.h5\")"
   ]
  },
  {
   "cell_type": "markdown",
   "id": "9cc3aa0c",
   "metadata": {},
   "source": [
    "### Performance Analysis"
   ]
  },
  {
   "cell_type": "markdown",
   "id": "d15693a2",
   "metadata": {},
   "source": [
    "#### <li> There are two predictions from model and those are chnage prediction and sign_prediction. </li>\n",
    "#### <li> Let us analyze model performance with respect to each output. </li>"
   ]
  },
  {
   "cell_type": "markdown",
   "id": "e3259723",
   "metadata": {},
   "source": [
    "### 1. Change_value_prediction"
   ]
  },
  {
   "cell_type": "markdown",
   "id": "862a4ae7",
   "metadata": {},
   "source": [
    "<li> Let us first analyze the percentile values for deviation from actual values. </li>"
   ]
  },
  {
   "cell_type": "code",
   "execution_count": 16,
   "id": "2582ede5",
   "metadata": {},
   "outputs": [
    {
     "name": "stdout",
     "output_type": "stream",
     "text": [
      "0th percentile value for deviation is : 0.0025255680084228516\n",
      "10th percentile value for deviation is : 0.20468310117721558\n",
      "20th percentile value for deviation is : 0.3622809648513794\n",
      "30th percentile value for deviation is : 0.5078783452510833\n",
      "40th percentile value for deviation is : 0.6134413719177246\n",
      "50th percentile value for deviation is : 0.7499048411846161\n",
      "60th percentile value for deviation is : 0.8472624540328979\n",
      "70th percentile value for deviation is : 0.9795998036861417\n",
      "80th percentile value for deviation is : 1.1228309631347657\n",
      "90th percentile value for deviation is : 1.3288654088974\n"
     ]
    }
   ],
   "source": [
    "deviation = np.array(deviation)\n",
    "\n",
    "for i in range(0,100,10):\n",
    "    print(\"{}th percentile value for deviation is : {}\".format(i,np.percentile(deviation,i)))"
   ]
  },
  {
   "cell_type": "markdown",
   "id": "23bf0093",
   "metadata": {},
   "source": [
    "<li> Based on the percentile values, let us set a threshold as follows: </li>\n",
    "<table>\n",
    "    <tr> \n",
    "        <td><b>Category</b></td>\n",
    "        <td><b>Deviation Value</b></td>\n",
    "    </tr>\n",
    "    <tr>\n",
    "        <td> Best </td>\n",
    "        <td> <= 0.40 </td>\n",
    "    </tr>\n",
    "    <tr>\n",
    "        <td> Medium </td>\n",
    "        <td> 0.40 > & <= 1.10  </td>\n",
    "    </tr>\n",
    "    <tr>\n",
    "        <td> Worst </td>\n",
    "        <td> >= 1.10 </td>\n",
    "    </tr>\n",
    "</table>"
   ]
  },
  {
   "cell_type": "code",
   "execution_count": 17,
   "id": "10e90216",
   "metadata": {},
   "outputs": [],
   "source": [
    "best_indices = []  # empty list to store best prediction indices in test data\n",
    "medium_indices = []  # empty list to store medium prediction indices in test data\n",
    "worst_indices = []  # empty list to store worst prediction indices in test data\n",
    "\n",
    "# Loop to iterate over all deviations and getting all indices\n",
    "for i in range(len(deviation)):\n",
    "    temp = deviation[i]\n",
    "    if temp <= 0.4:\n",
    "        best_indices.append(i)\n",
    "    elif temp > 0.4 and temp <= 1.1:\n",
    "        medium_indices.append(i)\n",
    "    else:\n",
    "        worst_indices.append(i)\n",
    "        \n",
    "best_indices = np.array(best_indices)\n",
    "medium_indices = np.array(medium_indices)\n",
    "worst_indices = np.array(worst_indices)\n",
    "\n",
    "best_points = test_data.iloc[best_indices]\n",
    "medium_points = test_data.iloc[medium_indices]\n",
    "worst_points = test_data.iloc[worst_indices]"
   ]
  },
  {
   "cell_type": "markdown",
   "id": "0f7c2795",
   "metadata": {},
   "source": [
    "### 1.1 company_name Analysis"
   ]
  },
  {
   "cell_type": "code",
   "execution_count": 18,
   "id": "ec1ea30c",
   "metadata": {},
   "outputs": [
    {
     "name": "stdout",
     "output_type": "stream",
     "text": [
      "Number of predictions per Company in best points are : \n",
      " AMZN     51\n",
      "GOOG     50\n",
      "MSFT     49\n",
      "GOOGL    48\n",
      "TSLA     46\n",
      "AAPL     42\n",
      "Name: company_name, dtype: int64 \n",
      "\n",
      "\n",
      "Number of predictions per Company in medium points are : \n",
      " AMZN     124\n",
      "GOOGL    123\n",
      "AAPL     123\n",
      "GOOG     121\n",
      "MSFT     121\n",
      "TSLA     105\n",
      "Name: company_name, dtype: int64 \n",
      "\n",
      "\n",
      "Number of predictions per Company in worst points are : \n",
      " TSLA     63\n",
      "AAPL     49\n",
      "MSFT     44\n",
      "GOOGL    43\n",
      "GOOG     43\n",
      "AMZN     39\n",
      "Name: company_name, dtype: int64 \n",
      "\n",
      "\n"
     ]
    }
   ],
   "source": [
    "print(\"Number of predictions per Company in best points are : \\n\",best_points['company_name'].value_counts(),\"\\n\\n\")\n",
    "print(\"Number of predictions per Company in medium points are : \\n\",medium_points['company_name'].value_counts(),\"\\n\\n\")\n",
    "print(\"Number of predictions per Company in worst points are : \\n\",worst_points['company_name'].value_counts(),\"\\n\\n\")"
   ]
  },
  {
   "cell_type": "markdown",
   "id": "bbe3b068",
   "metadata": {},
   "source": [
    "<li> We can observe that the number, there is an increase in best predictions although there is no significant change in worst predictions but medium category predictions are shifted to best predictions by assigning loss weights while training. </li>"
   ]
  },
  {
   "cell_type": "markdown",
   "id": "3acf5032",
   "metadata": {},
   "source": [
    "### 1.2 post_date Analysis"
   ]
  },
  {
   "cell_type": "code",
   "execution_count": 19,
   "id": "c9c9d627",
   "metadata": {},
   "outputs": [
    {
     "name": "stdout",
     "output_type": "stream",
     "text": [
      "best_points start from date 2019-06-03 and end on date 2019-12-31\n",
      "medium_points start from date 2019-06-01 and end on date 2019-12-31\n",
      "worst_points start from date 2019-06-03 and end on date 2019-12-30\n"
     ]
    }
   ],
   "source": [
    "print(\"best_points start from date {} and end on date {}\".format(best_points['post_date'].values[0],best_points['post_date'].values[-1]))\n",
    "print(\"medium_points start from date {} and end on date {}\".format(medium_points['post_date'].values[0],medium_points['post_date'].values[-1]))\n",
    "print(\"worst_points start from date {} and end on date {}\".format(worst_points['post_date'].values[0],worst_points['post_date'].values[-1]))"
   ]
  },
  {
   "cell_type": "markdown",
   "id": "3b58ddac",
   "metadata": {},
   "source": [
    "<li> Points in all categories are distributed almost complete duration. </li>\n",
    "<li> Let us analyze this in more detail. </li>"
   ]
  },
  {
   "cell_type": "code",
   "execution_count": 20,
   "id": "f3eeed81",
   "metadata": {},
   "outputs": [
    {
     "data": {
      "image/png": "[encoded data removed]",
      "text/plain": [
       "<Figure size 1080x360 with 3 Axes>"
      ]
     },
     "metadata": {
      "needs_background": "light"
     },
     "output_type": "display_data"
    }
   ],
   "source": [
    "# Plotting date histogram\n",
    "fig = plt.figure(figsize=(15,5))\n",
    "fig.suptitle(\"Date distribution for all data points\")\n",
    "ax1 = fig.add_subplot(1,3,1)\n",
    "ax1.hist(best_points['post_date'].values)\n",
    "plt.xlabel(\"best_points\")\n",
    "plt.ylabel(\"Number of predictions\")\n",
    "\n",
    "\n",
    "ax2 = fig.add_subplot(1,3,2)\n",
    "ax2.hist(medium_points['post_date'].values)\n",
    "plt.xlabel(\"medium_points\")\n",
    "\n",
    "\n",
    "ax3 = fig.add_subplot(1,3,3)\n",
    "ax3.hist(worst_points['post_date'].values)\n",
    "plt.xlabel(\"worst_points\")\n",
    "\n",
    "plt.show()"
   ]
  },
  {
   "cell_type": "markdown",
   "id": "96d91264",
   "metadata": {},
   "source": [
    "<li> With above plots, we can state that number of predictions according to dates are almost similar but for worst points, there are fewer prediction points for some durations. </li>"
   ]
  },
  {
   "cell_type": "markdown",
   "id": "c9f02fc4",
   "metadata": {},
   "source": [
    "### 1.3 tweet_text Analysis"
   ]
  },
  {
   "cell_type": "code",
   "execution_count": 21,
   "id": "c6c79a2d",
   "metadata": {},
   "outputs": [
    {
     "data": {
      "image/png": "[encoded data removed]",
      "text/plain": [
       "<Figure size 1080x360 with 3 Axes>"
      ]
     },
     "metadata": {
      "needs_background": "light"
     },
     "output_type": "display_data"
    }
   ],
   "source": [
    "# getting lengths of all combined tweet text data\n",
    "\n",
    "fig = plt.figure(figsize=(15,5))\n",
    "fig.suptitle(\"Combined tweet text length histogram\")\n",
    "ax1 = fig.add_subplot(1,3,1)\n",
    "ax1.hist([len(i.split()) for i in best_points['tweet_text'].values])\n",
    "plt.xlabel(\"best_points\")\n",
    "plt.ylabel(\"Number of predictions\")\n",
    "\n",
    "\n",
    "ax2 = fig.add_subplot(1,3,2, sharex=ax1, sharey=ax1)\n",
    "ax2.hist([len(i.split()) for i in medium_points['tweet_text'].values])\n",
    "plt.xlabel(\"medium_points\")\n",
    "\n",
    "\n",
    "ax3 = fig.add_subplot(1,3,3, sharex=ax1, sharey=ax1)\n",
    "ax3.hist([len(i.split()) for i in worst_points['tweet_text'].values])\n",
    "plt.xlabel(\"worst_points\")\n",
    "\n",
    "plt.show()"
   ]
  },
  {
   "cell_type": "markdown",
   "id": "6e2725b4",
   "metadata": {},
   "source": [
    "<li> We can observe that the number of data points in all cases are lesser for lower lengths since there aren't many texts with high lenghts. </li>\n",
    "<li> Also, for lengths lengths lesser than 2000, we are getting best predictions. Below apporx 3000 length, the predictions are best or medium. </li>\n",
    "<li> With text lengths 0 to 6000, the number of best and medium predictions are more. And beyond 10,000 length, the predictions are worst. </li>"
   ]
  },
  {
   "cell_type": "markdown",
   "id": "210ffa93",
   "metadata": {},
   "source": [
    "### 1.4 change_label Analysis"
   ]
  },
  {
   "cell_type": "code",
   "execution_count": 22,
   "id": "95d6405d",
   "metadata": {},
   "outputs": [
    {
     "data": {
      "image/png": "[encoded data removed]",
      "text/plain": [
       "<Figure size 1080x360 with 3 Axes>"
      ]
     },
     "metadata": {
      "needs_background": "light"
     },
     "output_type": "display_data"
    }
   ],
   "source": [
    "# Plotting date histogram\n",
    "fig = plt.figure(figsize=(15,5))\n",
    "fig.suptitle(\"change_label for all data points\")\n",
    "ax1 = fig.add_subplot(1,3,1)\n",
    "ax1.hist(best_points['change_label'].values)\n",
    "plt.xlabel(\"best_points\")\n",
    "plt.ylabel(\"Number of predictions\")\n",
    "\n",
    "\n",
    "ax2 = fig.add_subplot(1,3,2, sharex=ax1)\n",
    "ax2.hist(medium_points['change_label'].values)\n",
    "plt.xlabel(\"medium_points\")\n",
    "\n",
    "\n",
    "ax3 = fig.add_subplot(1,3,3, sharex=ax1)\n",
    "ax3.hist(worst_points['change_label'].values)\n",
    "plt.xlabel(\"worst_points\")\n",
    "\n",
    "plt.show()"
   ]
  },
  {
   "cell_type": "markdown",
   "id": "0a5f1a50",
   "metadata": {},
   "source": [
    "<li> We can observe that, if the % change is beyond 2.5%, then the predictions are worse. </li>\n",
    "<li> Also we can observe that that for lower deviation, best and medium points combined are more compared to worst predictions. </li>\n",
    "<li> It can be concluded that if % change is more, then that change is driven by some major factors other than tweeter and thus the model is performing worst. </li>"
   ]
  },
  {
   "cell_type": "markdown",
   "id": "004b682e",
   "metadata": {},
   "source": [
    "### 1.5 sign_change Analysis"
   ]
  },
  {
   "cell_type": "markdown",
   "id": "fd176b4c",
   "metadata": {},
   "source": [
    "#### <li> Here 0 means negative change while 1 means positive change. </li>"
   ]
  },
  {
   "cell_type": "code",
   "execution_count": 23,
   "id": "d624e22f",
   "metadata": {},
   "outputs": [
    {
     "name": "stdout",
     "output_type": "stream",
     "text": [
      "Number of predictions per Company in best points are : \n",
      " 1    189\n",
      "0     97\n",
      "Name: sign_change, dtype: int64 \n",
      "\n",
      "\n",
      "Number of predictions per Company in medium points are : \n",
      " 1    529\n",
      "0    188\n",
      "Name: sign_change, dtype: int64 \n",
      "\n",
      "\n",
      "Number of predictions per Company in worst points are : \n",
      " 1    172\n",
      "0    109\n",
      "Name: sign_change, dtype: int64 \n",
      "\n",
      "\n"
     ]
    }
   ],
   "source": [
    "print(\"Number of predictions per Company in best points are : \\n\",best_points['sign_change'].value_counts(),\"\\n\\n\")\n",
    "print(\"Number of predictions per Company in medium points are : \\n\",medium_points['sign_change'].value_counts(),\"\\n\\n\")\n",
    "print(\"Number of predictions per Company in worst points are : \\n\",worst_points['sign_change'].value_counts(),\"\\n\\n\")"
   ]
  },
  {
   "cell_type": "raw",
   "id": "01f20fc6",
   "metadata": {},
   "source": [
    "# before assigning weights\n",
    "\n",
    "Number of predictions per Company in best points are : \n",
    " 1    314\n",
    "0    134\n",
    "Name: sign_change, dtype: int64 \n",
    "\n",
    "\n",
    "Number of predictions per Company in medium points are : \n",
    " 1    426\n",
    "0    141\n",
    "Name: sign_change, dtype: int64 \n",
    "\n",
    "\n",
    "Number of predictions per Company in worst points are : \n",
    " 1    150\n",
    "0    117\n",
    "Name: sign_change, dtype: int64 "
   ]
  },
  {
   "cell_type": "code",
   "execution_count": 24,
   "id": "80b6be8a",
   "metadata": {},
   "outputs": [
    {
     "data": {
      "image/png": "[encoded data removed]",
      "text/plain": [
       "<Figure size 1080x360 with 3 Axes>"
      ]
     },
     "metadata": {
      "needs_background": "light"
     },
     "output_type": "display_data"
    }
   ],
   "source": [
    "# Plotting date histogram\n",
    "fig = plt.figure(figsize=(15,5))\n",
    "fig.suptitle(\"sign_change for all data points\")\n",
    "ax1 = fig.add_subplot(1,3,1)\n",
    "ax1.hist(best_points['sign_change'].values)\n",
    "plt.xlabel(\"best_points\")\n",
    "plt.ylabel(\"Number of predictions\")\n",
    "\n",
    "\n",
    "ax2 = fig.add_subplot(1,3,2)\n",
    "ax2.hist(medium_points['sign_change'].values)\n",
    "plt.xlabel(\"medium_points\")\n",
    "\n",
    "\n",
    "ax3 = fig.add_subplot(1,3,3)\n",
    "ax3.hist(worst_points['sign_change'].values)\n",
    "plt.xlabel(\"worst_points\")\n",
    "\n",
    "plt.show()"
   ]
  },
  {
   "cell_type": "markdown",
   "id": "05b24b6a",
   "metadata": {},
   "source": [
    "<li> We can see that the proportion of worst prediction points is more for negative change but if we observe the count, then there is an increase in best & medium predictions when compared to earlier models. </li>"
   ]
  },
  {
   "cell_type": "markdown",
   "id": "c36c1538",
   "metadata": {},
   "source": [
    "### Conclusion and Oberservations"
   ]
  },
  {
   "cell_type": "markdown",
   "id": "51e6dbd9",
   "metadata": {},
   "source": [
    "<li> With weight assignment for loss while training, model was trained to balance with both the classes. </li>\n",
    "<li> It was observed that there was a reduction in worst prediction data points and also some of the medium prediction data points shifted to best predictions. </li>\n",
    "<li> Hence weight assignment for loss helped to handle imbalance in sign_change label and improved the output. </li>"
   ]
  }
 ],
 "metadata": {
  "kernelspec": {
   "display_name": "Python 3",
   "language": "python",
   "name": "python3"
  },
  "language_info": {
   "codemirror_mode": {
    "name": "ipython",
    "version": 3
   },
   "file_extension": ".py",
   "mimetype": "text/x-python",
   "name": "python",
   "nbconvert_exporter": "python",
   "pygments_lexer": "ipython3",
   "version": "3.8.8"
  }
 },
 "nbformat": 4,
 "nbformat_minor": 5
}
